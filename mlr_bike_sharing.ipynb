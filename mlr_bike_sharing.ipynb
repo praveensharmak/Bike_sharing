{
 "cells": [
  {
   "cell_type": "markdown",
   "metadata": {
    "papermill": {
     "duration": 0.088186,
     "end_time": "2022-01-22T13:16:16.841702",
     "exception": false,
     "start_time": "2022-01-22T13:16:16.753516",
     "status": "completed"
    },
    "tags": []
   },
   "source": [
    "## BoomBikes Sharing Assignment\n",
    "\n",
    "#### Problem Statement:\n",
    "\n",
    "A bike-sharing system is a service in which bikes are made available for shared use to individuals on a short term basis for a price or free. Many bike share systems allow people to borrow a bike from a \"dock\" which is usually computer-controlled wherein the user enters the payment information, and the system unlocks it. This bike can then be returned to another dock belonging to the same system.\n",
    "\n",
    "A US bike-sharing provider BoomBikes has recently suffered considerable dips in their revenues due to the ongoing Corona pandemic. The company is finding it very difficult to sustain in the current market scenario. So, it has decided to come up with a mindful business plan to be able to accelerate its revenue as soon as the ongoing lockdown comes to an end, and the economy restores to a healthy state.\n",
    "\n",
    "In such an attempt, BoomBikes aspires to understand the demand for shared bikes among the people after this ongoing quarantine situation ends across the nation due to Covid-19. They have planned this to prepare themselves to cater to the people's needs once the situation gets better all around and stand out from other service providers and make huge profits.\n",
    "\n",
    "They have contracted a consulting company to understand the factors on which the demand for these shared bikes depends. Specifically, they want to understand the factors affecting the demand for these shared bikes in the American market. The company wants to know:\n",
    "    a. Which variables are significant in predicting the demand for shared bikes.\n",
    "    b. How well those variables describe the bike demands\n",
    "    \n",
    "Based on various meteorological surveys and people's styles, the service provider firm has gathered a large dataset on daily bike demands across the American market based on some factors. \n",
    "\n",
    "#### Business Goal:\n",
    "\n",
    "We are required to model the demand for shared bikes with the available independent variables. It will be used by the management to understand how exactly the demands vary with different features. They can accordingly manipulate the business strategy to meet the demand levels and meet the customer's expectations. Further, the model will be a good way for management to understand the demand dynamics of a new market. "
   ]
  },
  {
   "cell_type": "markdown",
   "metadata": {
    "papermill": {
     "duration": 0.086841,
     "end_time": "2022-01-22T13:16:17.017008",
     "exception": false,
     "start_time": "2022-01-22T13:16:16.930167",
     "status": "completed"
    },
    "tags": []
   },
   "source": [
    "##  Reading and Understanding the Data\n"
   ]
  },
  {
   "cell_type": "code",
   "execution_count": 1,
   "metadata": {
    "execution": {
     "iopub.execute_input": "2022-01-22T13:16:17.198453Z",
     "iopub.status.busy": "2022-01-22T13:16:17.197434Z",
     "iopub.status.idle": "2022-01-22T13:16:17.201547Z",
     "shell.execute_reply": "2022-01-22T13:16:17.202090Z"
    },
    "papermill": {
     "duration": 0.097579,
     "end_time": "2022-01-22T13:16:17.202280",
     "exception": false,
     "start_time": "2022-01-22T13:16:17.104701",
     "status": "completed"
    },
    "tags": []
   },
   "outputs": [],
   "source": [
    "import numpy as np\n",
    "import pandas as pd\n",
    "import matplotlib.pyplot as plt\n",
    "import seaborn as sns\n",
    "import warnings\n",
    "warnings.filterwarnings('ignore')\n",
    "%matplotlib inline"
   ]
  },
  {
   "cell_type": "code",
   "execution_count": 2,
   "metadata": {
    "execution": {
     "iopub.execute_input": "2022-01-22T13:16:18.680332Z",
     "iopub.status.busy": "2022-01-22T13:16:18.679297Z",
     "iopub.status.idle": "2022-01-22T13:16:18.699632Z",
     "shell.execute_reply": "2022-01-22T13:16:18.700232Z"
    },
    "papermill": {
     "duration": 0.112332,
     "end_time": "2022-01-22T13:16:18.700399",
     "exception": false,
     "start_time": "2022-01-22T13:16:18.588067",
     "status": "completed"
    },
    "tags": []
   },
   "outputs": [],
   "source": [
    "bike_data = pd.DataFrame(pd.read_csv(\"day.csv\"))"
   ]
  },
  {
   "cell_type": "code",
   "execution_count": 3,
   "metadata": {
    "execution": {
     "iopub.execute_input": "2022-01-22T13:16:18.885342Z",
     "iopub.status.busy": "2022-01-22T13:16:18.884651Z",
     "iopub.status.idle": "2022-01-22T13:16:18.903667Z",
     "shell.execute_reply": "2022-01-22T13:16:18.904233Z"
    },
    "papermill": {
     "duration": 0.114412,
     "end_time": "2022-01-22T13:16:18.904383",
     "exception": false,
     "start_time": "2022-01-22T13:16:18.789971",
     "status": "completed"
    },
    "tags": []
   },
   "outputs": [
    {
     "data": {
      "text/html": [
       "<div>\n",
       "<style scoped>\n",
       "    .dataframe tbody tr th:only-of-type {\n",
       "        vertical-align: middle;\n",
       "    }\n",
       "\n",
       "    .dataframe tbody tr th {\n",
       "        vertical-align: top;\n",
       "    }\n",
       "\n",
       "    .dataframe thead th {\n",
       "        text-align: right;\n",
       "    }\n",
       "</style>\n",
       "<table border=\"1\" class=\"dataframe\">\n",
       "  <thead>\n",
       "    <tr style=\"text-align: right;\">\n",
       "      <th></th>\n",
       "      <th>instant</th>\n",
       "      <th>dteday</th>\n",
       "      <th>season</th>\n",
       "      <th>yr</th>\n",
       "      <th>mnth</th>\n",
       "      <th>holiday</th>\n",
       "      <th>weekday</th>\n",
       "      <th>workingday</th>\n",
       "      <th>weathersit</th>\n",
       "      <th>temp</th>\n",
       "      <th>atemp</th>\n",
       "      <th>hum</th>\n",
       "      <th>windspeed</th>\n",
       "      <th>casual</th>\n",
       "      <th>registered</th>\n",
       "      <th>cnt</th>\n",
       "    </tr>\n",
       "  </thead>\n",
       "  <tbody>\n",
       "    <tr>\n",
       "      <th>0</th>\n",
       "      <td>1</td>\n",
       "      <td>01-01-2018</td>\n",
       "      <td>1</td>\n",
       "      <td>0</td>\n",
       "      <td>1</td>\n",
       "      <td>0</td>\n",
       "      <td>6</td>\n",
       "      <td>0</td>\n",
       "      <td>2</td>\n",
       "      <td>14.110847</td>\n",
       "      <td>18.18125</td>\n",
       "      <td>80.5833</td>\n",
       "      <td>10.749882</td>\n",
       "      <td>331</td>\n",
       "      <td>654</td>\n",
       "      <td>985</td>\n",
       "    </tr>\n",
       "    <tr>\n",
       "      <th>1</th>\n",
       "      <td>2</td>\n",
       "      <td>02-01-2018</td>\n",
       "      <td>1</td>\n",
       "      <td>0</td>\n",
       "      <td>1</td>\n",
       "      <td>0</td>\n",
       "      <td>0</td>\n",
       "      <td>0</td>\n",
       "      <td>2</td>\n",
       "      <td>14.902598</td>\n",
       "      <td>17.68695</td>\n",
       "      <td>69.6087</td>\n",
       "      <td>16.652113</td>\n",
       "      <td>131</td>\n",
       "      <td>670</td>\n",
       "      <td>801</td>\n",
       "    </tr>\n",
       "    <tr>\n",
       "      <th>2</th>\n",
       "      <td>3</td>\n",
       "      <td>03-01-2018</td>\n",
       "      <td>1</td>\n",
       "      <td>0</td>\n",
       "      <td>1</td>\n",
       "      <td>0</td>\n",
       "      <td>1</td>\n",
       "      <td>1</td>\n",
       "      <td>1</td>\n",
       "      <td>8.050924</td>\n",
       "      <td>9.47025</td>\n",
       "      <td>43.7273</td>\n",
       "      <td>16.636703</td>\n",
       "      <td>120</td>\n",
       "      <td>1229</td>\n",
       "      <td>1349</td>\n",
       "    </tr>\n",
       "    <tr>\n",
       "      <th>3</th>\n",
       "      <td>4</td>\n",
       "      <td>04-01-2018</td>\n",
       "      <td>1</td>\n",
       "      <td>0</td>\n",
       "      <td>1</td>\n",
       "      <td>0</td>\n",
       "      <td>2</td>\n",
       "      <td>1</td>\n",
       "      <td>1</td>\n",
       "      <td>8.200000</td>\n",
       "      <td>10.60610</td>\n",
       "      <td>59.0435</td>\n",
       "      <td>10.739832</td>\n",
       "      <td>108</td>\n",
       "      <td>1454</td>\n",
       "      <td>1562</td>\n",
       "    </tr>\n",
       "    <tr>\n",
       "      <th>4</th>\n",
       "      <td>5</td>\n",
       "      <td>05-01-2018</td>\n",
       "      <td>1</td>\n",
       "      <td>0</td>\n",
       "      <td>1</td>\n",
       "      <td>0</td>\n",
       "      <td>3</td>\n",
       "      <td>1</td>\n",
       "      <td>1</td>\n",
       "      <td>9.305237</td>\n",
       "      <td>11.46350</td>\n",
       "      <td>43.6957</td>\n",
       "      <td>12.522300</td>\n",
       "      <td>82</td>\n",
       "      <td>1518</td>\n",
       "      <td>1600</td>\n",
       "    </tr>\n",
       "  </tbody>\n",
       "</table>\n",
       "</div>"
      ],
      "text/plain": [
       "   instant      dteday  season  yr  mnth  holiday  weekday  workingday  \\\n",
       "0        1  01-01-2018       1   0     1        0        6           0   \n",
       "1        2  02-01-2018       1   0     1        0        0           0   \n",
       "2        3  03-01-2018       1   0     1        0        1           1   \n",
       "3        4  04-01-2018       1   0     1        0        2           1   \n",
       "4        5  05-01-2018       1   0     1        0        3           1   \n",
       "\n",
       "   weathersit       temp     atemp      hum  windspeed  casual  registered  \\\n",
       "0           2  14.110847  18.18125  80.5833  10.749882     331         654   \n",
       "1           2  14.902598  17.68695  69.6087  16.652113     131         670   \n",
       "2           1   8.050924   9.47025  43.7273  16.636703     120        1229   \n",
       "3           1   8.200000  10.60610  59.0435  10.739832     108        1454   \n",
       "4           1   9.305237  11.46350  43.6957  12.522300      82        1518   \n",
       "\n",
       "    cnt  \n",
       "0   985  \n",
       "1   801  \n",
       "2  1349  \n",
       "3  1562  \n",
       "4  1600  "
      ]
     },
     "execution_count": 3,
     "metadata": {},
     "output_type": "execute_result"
    }
   ],
   "source": [
    "# Check the head of the dataset\n",
    "bike_data.head()"
   ]
  },
  {
   "cell_type": "code",
   "execution_count": 4,
   "metadata": {
    "execution": {
     "iopub.execute_input": "2022-01-22T13:16:19.088567Z",
     "iopub.status.busy": "2022-01-22T13:16:19.087850Z",
     "iopub.status.idle": "2022-01-22T13:16:19.103812Z",
     "shell.execute_reply": "2022-01-22T13:16:19.104398Z"
    },
    "papermill": {
     "duration": 0.108407,
     "end_time": "2022-01-22T13:16:19.104555",
     "exception": false,
     "start_time": "2022-01-22T13:16:18.996148",
     "status": "completed"
    },
    "tags": []
   },
   "outputs": [
    {
     "name": "stdout",
     "output_type": "stream",
     "text": [
      "<class 'pandas.core.frame.DataFrame'>\n",
      "RangeIndex: 730 entries, 0 to 729\n",
      "Data columns (total 16 columns):\n",
      " #   Column      Non-Null Count  Dtype  \n",
      "---  ------      --------------  -----  \n",
      " 0   instant     730 non-null    int64  \n",
      " 1   dteday      730 non-null    object \n",
      " 2   season      730 non-null    int64  \n",
      " 3   yr          730 non-null    int64  \n",
      " 4   mnth        730 non-null    int64  \n",
      " 5   holiday     730 non-null    int64  \n",
      " 6   weekday     730 non-null    int64  \n",
      " 7   workingday  730 non-null    int64  \n",
      " 8   weathersit  730 non-null    int64  \n",
      " 9   temp        730 non-null    float64\n",
      " 10  atemp       730 non-null    float64\n",
      " 11  hum         730 non-null    float64\n",
      " 12  windspeed   730 non-null    float64\n",
      " 13  casual      730 non-null    int64  \n",
      " 14  registered  730 non-null    int64  \n",
      " 15  cnt         730 non-null    int64  \n",
      "dtypes: float64(4), int64(11), object(1)\n",
      "memory usage: 91.4+ KB\n"
     ]
    }
   ],
   "source": [
    "# Check the descriptive information\n",
    "bike_data.info()"
   ]
  },
  {
   "cell_type": "code",
   "execution_count": 5,
   "metadata": {
    "execution": {
     "iopub.execute_input": "2022-01-22T13:16:19.288946Z",
     "iopub.status.busy": "2022-01-22T13:16:19.288271Z",
     "iopub.status.idle": "2022-01-22T13:16:19.352034Z",
     "shell.execute_reply": "2022-01-22T13:16:19.351493Z"
    },
    "papermill": {
     "duration": 0.157148,
     "end_time": "2022-01-22T13:16:19.352173",
     "exception": false,
     "start_time": "2022-01-22T13:16:19.195025",
     "status": "completed"
    },
    "tags": []
   },
   "outputs": [
    {
     "data": {
      "text/html": [
       "<div>\n",
       "<style scoped>\n",
       "    .dataframe tbody tr th:only-of-type {\n",
       "        vertical-align: middle;\n",
       "    }\n",
       "\n",
       "    .dataframe tbody tr th {\n",
       "        vertical-align: top;\n",
       "    }\n",
       "\n",
       "    .dataframe thead th {\n",
       "        text-align: right;\n",
       "    }\n",
       "</style>\n",
       "<table border=\"1\" class=\"dataframe\">\n",
       "  <thead>\n",
       "    <tr style=\"text-align: right;\">\n",
       "      <th></th>\n",
       "      <th>instant</th>\n",
       "      <th>season</th>\n",
       "      <th>yr</th>\n",
       "      <th>mnth</th>\n",
       "      <th>holiday</th>\n",
       "      <th>weekday</th>\n",
       "      <th>workingday</th>\n",
       "      <th>weathersit</th>\n",
       "      <th>temp</th>\n",
       "      <th>atemp</th>\n",
       "      <th>hum</th>\n",
       "      <th>windspeed</th>\n",
       "      <th>casual</th>\n",
       "      <th>registered</th>\n",
       "      <th>cnt</th>\n",
       "    </tr>\n",
       "  </thead>\n",
       "  <tbody>\n",
       "    <tr>\n",
       "      <th>count</th>\n",
       "      <td>730.000000</td>\n",
       "      <td>730.000000</td>\n",
       "      <td>730.000000</td>\n",
       "      <td>730.000000</td>\n",
       "      <td>730.000000</td>\n",
       "      <td>730.000000</td>\n",
       "      <td>730.000000</td>\n",
       "      <td>730.000000</td>\n",
       "      <td>730.000000</td>\n",
       "      <td>730.000000</td>\n",
       "      <td>730.000000</td>\n",
       "      <td>730.000000</td>\n",
       "      <td>730.000000</td>\n",
       "      <td>730.000000</td>\n",
       "      <td>730.000000</td>\n",
       "    </tr>\n",
       "    <tr>\n",
       "      <th>mean</th>\n",
       "      <td>365.500000</td>\n",
       "      <td>2.498630</td>\n",
       "      <td>0.500000</td>\n",
       "      <td>6.526027</td>\n",
       "      <td>0.028767</td>\n",
       "      <td>2.997260</td>\n",
       "      <td>0.683562</td>\n",
       "      <td>1.394521</td>\n",
       "      <td>20.319259</td>\n",
       "      <td>23.726322</td>\n",
       "      <td>62.765175</td>\n",
       "      <td>12.763620</td>\n",
       "      <td>849.249315</td>\n",
       "      <td>3658.757534</td>\n",
       "      <td>4508.006849</td>\n",
       "    </tr>\n",
       "    <tr>\n",
       "      <th>std</th>\n",
       "      <td>210.877136</td>\n",
       "      <td>1.110184</td>\n",
       "      <td>0.500343</td>\n",
       "      <td>3.450215</td>\n",
       "      <td>0.167266</td>\n",
       "      <td>2.006161</td>\n",
       "      <td>0.465405</td>\n",
       "      <td>0.544807</td>\n",
       "      <td>7.506729</td>\n",
       "      <td>8.150308</td>\n",
       "      <td>14.237589</td>\n",
       "      <td>5.195841</td>\n",
       "      <td>686.479875</td>\n",
       "      <td>1559.758728</td>\n",
       "      <td>1936.011647</td>\n",
       "    </tr>\n",
       "    <tr>\n",
       "      <th>min</th>\n",
       "      <td>1.000000</td>\n",
       "      <td>1.000000</td>\n",
       "      <td>0.000000</td>\n",
       "      <td>1.000000</td>\n",
       "      <td>0.000000</td>\n",
       "      <td>0.000000</td>\n",
       "      <td>0.000000</td>\n",
       "      <td>1.000000</td>\n",
       "      <td>2.424346</td>\n",
       "      <td>3.953480</td>\n",
       "      <td>0.000000</td>\n",
       "      <td>1.500244</td>\n",
       "      <td>2.000000</td>\n",
       "      <td>20.000000</td>\n",
       "      <td>22.000000</td>\n",
       "    </tr>\n",
       "    <tr>\n",
       "      <th>25%</th>\n",
       "      <td>183.250000</td>\n",
       "      <td>2.000000</td>\n",
       "      <td>0.000000</td>\n",
       "      <td>4.000000</td>\n",
       "      <td>0.000000</td>\n",
       "      <td>1.000000</td>\n",
       "      <td>0.000000</td>\n",
       "      <td>1.000000</td>\n",
       "      <td>13.811885</td>\n",
       "      <td>16.889713</td>\n",
       "      <td>52.000000</td>\n",
       "      <td>9.041650</td>\n",
       "      <td>316.250000</td>\n",
       "      <td>2502.250000</td>\n",
       "      <td>3169.750000</td>\n",
       "    </tr>\n",
       "    <tr>\n",
       "      <th>50%</th>\n",
       "      <td>365.500000</td>\n",
       "      <td>3.000000</td>\n",
       "      <td>0.500000</td>\n",
       "      <td>7.000000</td>\n",
       "      <td>0.000000</td>\n",
       "      <td>3.000000</td>\n",
       "      <td>1.000000</td>\n",
       "      <td>1.000000</td>\n",
       "      <td>20.465826</td>\n",
       "      <td>24.368225</td>\n",
       "      <td>62.625000</td>\n",
       "      <td>12.125325</td>\n",
       "      <td>717.000000</td>\n",
       "      <td>3664.500000</td>\n",
       "      <td>4548.500000</td>\n",
       "    </tr>\n",
       "    <tr>\n",
       "      <th>75%</th>\n",
       "      <td>547.750000</td>\n",
       "      <td>3.000000</td>\n",
       "      <td>1.000000</td>\n",
       "      <td>10.000000</td>\n",
       "      <td>0.000000</td>\n",
       "      <td>5.000000</td>\n",
       "      <td>1.000000</td>\n",
       "      <td>2.000000</td>\n",
       "      <td>26.880615</td>\n",
       "      <td>30.445775</td>\n",
       "      <td>72.989575</td>\n",
       "      <td>15.625589</td>\n",
       "      <td>1096.500000</td>\n",
       "      <td>4783.250000</td>\n",
       "      <td>5966.000000</td>\n",
       "    </tr>\n",
       "    <tr>\n",
       "      <th>max</th>\n",
       "      <td>730.000000</td>\n",
       "      <td>4.000000</td>\n",
       "      <td>1.000000</td>\n",
       "      <td>12.000000</td>\n",
       "      <td>1.000000</td>\n",
       "      <td>6.000000</td>\n",
       "      <td>1.000000</td>\n",
       "      <td>3.000000</td>\n",
       "      <td>35.328347</td>\n",
       "      <td>42.044800</td>\n",
       "      <td>97.250000</td>\n",
       "      <td>34.000021</td>\n",
       "      <td>3410.000000</td>\n",
       "      <td>6946.000000</td>\n",
       "      <td>8714.000000</td>\n",
       "    </tr>\n",
       "  </tbody>\n",
       "</table>\n",
       "</div>"
      ],
      "text/plain": [
       "          instant      season          yr        mnth     holiday     weekday  \\\n",
       "count  730.000000  730.000000  730.000000  730.000000  730.000000  730.000000   \n",
       "mean   365.500000    2.498630    0.500000    6.526027    0.028767    2.997260   \n",
       "std    210.877136    1.110184    0.500343    3.450215    0.167266    2.006161   \n",
       "min      1.000000    1.000000    0.000000    1.000000    0.000000    0.000000   \n",
       "25%    183.250000    2.000000    0.000000    4.000000    0.000000    1.000000   \n",
       "50%    365.500000    3.000000    0.500000    7.000000    0.000000    3.000000   \n",
       "75%    547.750000    3.000000    1.000000   10.000000    0.000000    5.000000   \n",
       "max    730.000000    4.000000    1.000000   12.000000    1.000000    6.000000   \n",
       "\n",
       "       workingday  weathersit        temp       atemp         hum   windspeed  \\\n",
       "count  730.000000  730.000000  730.000000  730.000000  730.000000  730.000000   \n",
       "mean     0.683562    1.394521   20.319259   23.726322   62.765175   12.763620   \n",
       "std      0.465405    0.544807    7.506729    8.150308   14.237589    5.195841   \n",
       "min      0.000000    1.000000    2.424346    3.953480    0.000000    1.500244   \n",
       "25%      0.000000    1.000000   13.811885   16.889713   52.000000    9.041650   \n",
       "50%      1.000000    1.000000   20.465826   24.368225   62.625000   12.125325   \n",
       "75%      1.000000    2.000000   26.880615   30.445775   72.989575   15.625589   \n",
       "max      1.000000    3.000000   35.328347   42.044800   97.250000   34.000021   \n",
       "\n",
       "            casual   registered          cnt  \n",
       "count   730.000000   730.000000   730.000000  \n",
       "mean    849.249315  3658.757534  4508.006849  \n",
       "std     686.479875  1559.758728  1936.011647  \n",
       "min       2.000000    20.000000    22.000000  \n",
       "25%     316.250000  2502.250000  3169.750000  \n",
       "50%     717.000000  3664.500000  4548.500000  \n",
       "75%    1096.500000  4783.250000  5966.000000  \n",
       "max    3410.000000  6946.000000  8714.000000  "
      ]
     },
     "execution_count": 5,
     "metadata": {},
     "output_type": "execute_result"
    }
   ],
   "source": [
    "bike_data.describe()"
   ]
  },
  {
   "cell_type": "code",
   "execution_count": 6,
   "metadata": {
    "execution": {
     "iopub.execute_input": "2022-01-22T13:16:19.537844Z",
     "iopub.status.busy": "2022-01-22T13:16:19.537080Z",
     "iopub.status.idle": "2022-01-22T13:16:19.539699Z",
     "shell.execute_reply": "2022-01-22T13:16:19.540209Z"
    },
    "papermill": {
     "duration": 0.098192,
     "end_time": "2022-01-22T13:16:19.540362",
     "exception": false,
     "start_time": "2022-01-22T13:16:19.442170",
     "status": "completed"
    },
    "tags": []
   },
   "outputs": [
    {
     "name": "stdout",
     "output_type": "stream",
     "text": [
      "(730, 16)\n"
     ]
    }
   ],
   "source": [
    "# Check the shape of Bike Data \n",
    "print(bike_data.shape)"
   ]
  },
  {
   "cell_type": "markdown",
   "metadata": {
    "papermill": {
     "duration": 0.089902,
     "end_time": "2022-01-22T13:16:19.721091",
     "exception": false,
     "start_time": "2022-01-22T13:16:19.631189",
     "status": "completed"
    },
    "tags": []
   },
   "source": [
    "## Finding : \n",
    "Dataset has 730 rows and 16 columns.\n",
    "\n",
    "Except one column, all other are either float or integer type. \n",
    "\n",
    "One column is date type.\n",
    "\n",
    "Looking at the data, there seems to be some fields that are categorical in nature, but in integer/float type.\n",
    "\n",
    "We will analyse and finalize whether to convert them to categorical or treat as integer."
   ]
  },
  {
   "cell_type": "markdown",
   "metadata": {
    "papermill": {
     "duration": 0.096258,
     "end_time": "2022-01-22T13:16:19.919766",
     "exception": false,
     "start_time": "2022-01-22T13:16:19.823508",
     "status": "completed"
    },
    "tags": []
   },
   "source": [
    "# CHECKING QUALITY OF DATA  "
   ]
  },
  {
   "cell_type": "markdown",
   "metadata": {
    "papermill": {
     "duration": 0.092515,
     "end_time": "2022-01-22T13:16:20.104748",
     "exception": false,
     "start_time": "2022-01-22T13:16:20.012233",
     "status": "completed"
    },
    "tags": []
   },
   "source": [
    "## Checking NULL or MISSING values"
   ]
  },
  {
   "cell_type": "code",
   "execution_count": 7,
   "metadata": {
    "execution": {
     "iopub.execute_input": "2022-01-22T13:16:20.308609Z",
     "iopub.status.busy": "2022-01-22T13:16:20.307833Z",
     "iopub.status.idle": "2022-01-22T13:16:20.336413Z",
     "shell.execute_reply": "2022-01-22T13:16:20.336992Z"
    },
    "papermill": {
     "duration": 0.139799,
     "end_time": "2022-01-22T13:16:20.337213",
     "exception": false,
     "start_time": "2022-01-22T13:16:20.197414",
     "status": "completed"
    },
    "scrolled": true,
    "tags": []
   },
   "outputs": [
    {
     "data": {
      "text/plain": [
       "instant       0.0\n",
       "dteday        0.0\n",
       "season        0.0\n",
       "yr            0.0\n",
       "mnth          0.0\n",
       "holiday       0.0\n",
       "weekday       0.0\n",
       "workingday    0.0\n",
       "weathersit    0.0\n",
       "temp          0.0\n",
       "atemp         0.0\n",
       "hum           0.0\n",
       "windspeed     0.0\n",
       "casual        0.0\n",
       "registered    0.0\n",
       "cnt           0.0\n",
       "dtype: float64"
      ]
     },
     "execution_count": 7,
     "metadata": {},
     "output_type": "execute_result"
    }
   ],
   "source": [
    "# percentage of missing values in each column\n",
    "round(100*(bike_data.isnull().sum()/len(bike_data)), 2).sort_values(ascending=False)"
   ]
  },
  {
   "cell_type": "code",
   "execution_count": 8,
   "metadata": {
    "execution": {
     "iopub.execute_input": "2022-01-22T13:16:20.526945Z",
     "iopub.status.busy": "2022-01-22T13:16:20.526266Z",
     "iopub.status.idle": "2022-01-22T13:16:20.536370Z",
     "shell.execute_reply": "2022-01-22T13:16:20.536915Z"
    },
    "papermill": {
     "duration": 0.105163,
     "end_time": "2022-01-22T13:16:20.537058",
     "exception": false,
     "start_time": "2022-01-22T13:16:20.431895",
     "status": "completed"
    },
    "tags": []
   },
   "outputs": [
    {
     "data": {
      "text/plain": [
       "0      0.0\n",
       "479    0.0\n",
       "481    0.0\n",
       "482    0.0\n",
       "483    0.0\n",
       "      ... \n",
       "245    0.0\n",
       "246    0.0\n",
       "247    0.0\n",
       "248    0.0\n",
       "729    0.0\n",
       "Length: 730, dtype: float64"
      ]
     },
     "execution_count": 8,
     "metadata": {},
     "output_type": "execute_result"
    }
   ],
   "source": [
    "# row-wise null count percentage\n",
    "round((bike_data.isnull().sum(axis=1)/len(bike_data))*100,2).sort_values(ascending=False)"
   ]
  },
  {
   "cell_type": "markdown",
   "metadata": {
    "papermill": {
     "duration": 0.099804,
     "end_time": "2022-01-22T13:16:20.729173",
     "exception": false,
     "start_time": "2022-01-22T13:16:20.629369",
     "status": "completed"
    },
    "tags": []
   },
   "source": [
    "## Finding\n",
    "There are no missing / Null values either in columns or rows"
   ]
  },
  {
   "cell_type": "markdown",
   "metadata": {
    "papermill": {
     "duration": 0.141028,
     "end_time": "2022-01-22T13:16:20.966375",
     "exception": false,
     "start_time": "2022-01-22T13:16:20.825347",
     "status": "completed"
    },
    "tags": []
   },
   "source": [
    "## Duplicate Checking"
   ]
  },
  {
   "cell_type": "code",
   "execution_count": 9,
   "metadata": {
    "execution": {
     "iopub.execute_input": "2022-01-22T13:16:21.154054Z",
     "iopub.status.busy": "2022-01-22T13:16:21.153380Z",
     "iopub.status.idle": "2022-01-22T13:16:21.167923Z",
     "shell.execute_reply": "2022-01-22T13:16:21.168508Z"
    },
    "papermill": {
     "duration": 0.110716,
     "end_time": "2022-01-22T13:16:21.168661",
     "exception": false,
     "start_time": "2022-01-22T13:16:21.057945",
     "status": "completed"
    },
    "tags": []
   },
   "outputs": [],
   "source": [
    "bike_dup_data = bike_data.copy()\n",
    "# Checking for duplicates and dropping the entire duplicate row if any\n",
    "bike_dup_data.drop_duplicates(subset=None, inplace=True)"
   ]
  },
  {
   "cell_type": "code",
   "execution_count": 10,
   "metadata": {
    "execution": {
     "iopub.execute_input": "2022-01-22T13:16:21.361217Z",
     "iopub.status.busy": "2022-01-22T13:16:21.360530Z",
     "iopub.status.idle": "2022-01-22T13:16:21.363598Z",
     "shell.execute_reply": "2022-01-22T13:16:21.364154Z"
    },
    "papermill": {
     "duration": 0.100792,
     "end_time": "2022-01-22T13:16:21.364299",
     "exception": false,
     "start_time": "2022-01-22T13:16:21.263507",
     "status": "completed"
    },
    "tags": []
   },
   "outputs": [
    {
     "data": {
      "text/plain": [
       "(730, 16)"
      ]
     },
     "execution_count": 10,
     "metadata": {},
     "output_type": "execute_result"
    }
   ],
   "source": [
    "bike_dup_data.shape"
   ]
  },
  {
   "cell_type": "code",
   "execution_count": 11,
   "metadata": {
    "execution": {
     "iopub.execute_input": "2022-01-22T13:16:21.553099Z",
     "iopub.status.busy": "2022-01-22T13:16:21.552451Z",
     "iopub.status.idle": "2022-01-22T13:16:21.557872Z",
     "shell.execute_reply": "2022-01-22T13:16:21.558415Z"
    },
    "papermill": {
     "duration": 0.102319,
     "end_time": "2022-01-22T13:16:21.558569",
     "exception": false,
     "start_time": "2022-01-22T13:16:21.456250",
     "status": "completed"
    },
    "tags": []
   },
   "outputs": [
    {
     "data": {
      "text/plain": [
       "(730, 16)"
      ]
     },
     "execution_count": 11,
     "metadata": {},
     "output_type": "execute_result"
    }
   ],
   "source": [
    "bike_data.shape"
   ]
  },
  {
   "cell_type": "markdown",
   "metadata": {
    "papermill": {
     "duration": 0.09659,
     "end_time": "2022-01-22T13:16:21.748564",
     "exception": false,
     "start_time": "2022-01-22T13:16:21.651974",
     "status": "completed"
    },
    "tags": []
   },
   "source": [
    "### Insights \n",
    "\n",
    "The shape after running the drop duplicate command is same as the original dataframe. \n",
    "\n",
    "Hence we can conclude that there were zero duplicate values in the dataset. "
   ]
  },
  {
   "cell_type": "markdown",
   "metadata": {
    "papermill": {
     "duration": 0.10256,
     "end_time": "2022-01-22T13:16:21.966609",
     "exception": false,
     "start_time": "2022-01-22T13:16:21.864049",
     "status": "completed"
    },
    "tags": []
   },
   "source": [
    "## Data Cleaning\n",
    "\n",
    "Checking value_counts() for entire dataframe. \n",
    "\n",
    "This will help to identify any Unknow/Junk values present in the dataset."
   ]
  },
  {
   "cell_type": "code",
   "execution_count": 12,
   "metadata": {
    "execution": {
     "iopub.execute_input": "2022-01-22T13:16:22.162677Z",
     "iopub.status.busy": "2022-01-22T13:16:22.161916Z",
     "iopub.status.idle": "2022-01-22T13:16:22.164404Z",
     "shell.execute_reply": "2022-01-22T13:16:22.165070Z"
    },
    "papermill": {
     "duration": 0.101857,
     "end_time": "2022-01-22T13:16:22.165246",
     "exception": false,
     "start_time": "2022-01-22T13:16:22.063389",
     "status": "completed"
    },
    "tags": []
   },
   "outputs": [],
   "source": [
    "#Create a copy of the  dataframe, without the 'instant' column, \n",
    "\n",
    "#as this will have unique values, and donot make sense to do a value count on it.\n",
    "\n",
    "bike_dummy=bike_data.iloc[:,1:16]"
   ]
  },
  {
   "cell_type": "code",
   "execution_count": 13,
   "metadata": {
    "execution": {
     "iopub.execute_input": "2022-01-22T13:16:22.357020Z",
     "iopub.status.busy": "2022-01-22T13:16:22.356299Z",
     "iopub.status.idle": "2022-01-22T13:16:22.395761Z",
     "shell.execute_reply": "2022-01-22T13:16:22.395061Z"
    },
    "papermill": {
     "duration": 0.135841,
     "end_time": "2022-01-22T13:16:22.395881",
     "exception": false,
     "start_time": "2022-01-22T13:16:22.260040",
     "status": "completed"
    },
    "tags": []
   },
   "outputs": [
    {
     "name": "stdout",
     "output_type": "stream",
     "text": [
      "01-01-2018    1\n",
      "25-04-2019    1\n",
      "27-04-2019    1\n",
      "28-04-2019    1\n",
      "29-04-2019    1\n",
      "             ..\n",
      "03-09-2018    1\n",
      "04-09-2018    1\n",
      "05-09-2018    1\n",
      "06-09-2018    1\n",
      "31-12-2019    1\n",
      "Name: dteday, Length: 730, dtype: int64 \n",
      "\n",
      "\n",
      "\n",
      "3    188\n",
      "2    184\n",
      "1    180\n",
      "4    178\n",
      "Name: season, dtype: int64 \n",
      "\n",
      "\n",
      "\n",
      "0    365\n",
      "1    365\n",
      "Name: yr, dtype: int64 \n",
      "\n",
      "\n",
      "\n",
      "1     62\n",
      "3     62\n",
      "5     62\n",
      "7     62\n",
      "8     62\n",
      "10    62\n",
      "12    62\n",
      "4     60\n",
      "6     60\n",
      "9     60\n",
      "11    60\n",
      "2     56\n",
      "Name: mnth, dtype: int64 \n",
      "\n",
      "\n",
      "\n",
      "0    709\n",
      "1     21\n",
      "Name: holiday, dtype: int64 \n",
      "\n",
      "\n",
      "\n",
      "6    105\n",
      "0    105\n",
      "1    105\n",
      "2    104\n",
      "4    104\n",
      "5    104\n",
      "3    103\n",
      "Name: weekday, dtype: int64 \n",
      "\n",
      "\n",
      "\n",
      "1    499\n",
      "0    231\n",
      "Name: workingday, dtype: int64 \n",
      "\n",
      "\n",
      "\n",
      "1    463\n",
      "2    246\n",
      "3     21\n",
      "Name: weathersit, dtype: int64 \n",
      "\n",
      "\n",
      "\n",
      "26.035000    5\n",
      "10.899153    5\n",
      "27.880000    4\n",
      "28.563347    4\n",
      "23.130847    4\n",
      "            ..\n",
      "27.435847    1\n",
      "26.376653    1\n",
      "28.989419    1\n",
      "28.700000    1\n",
      "8.849153     1\n",
      "Name: temp, Length: 498, dtype: int64 \n",
      "\n",
      "\n",
      "\n",
      "32.73440    4\n",
      "18.78105    3\n",
      "31.85040    3\n",
      "28.59875    2\n",
      "23.32625    2\n",
      "           ..\n",
      "28.94730    1\n",
      "30.46145    1\n",
      "30.10650    1\n",
      "31.34500    1\n",
      "11.17435    1\n",
      "Name: atemp, Length: 689, dtype: int64 \n",
      "\n",
      "\n",
      "\n",
      "61.3333    4\n",
      "63.0833    3\n",
      "55.2083    3\n",
      "60.5000    3\n",
      "56.8333    3\n",
      "          ..\n",
      "54.8333    1\n",
      "56.1765    1\n",
      "85.0000    1\n",
      "76.1250    1\n",
      "57.7500    1\n",
      "Name: hum, Length: 594, dtype: int64 \n",
      "\n",
      "\n",
      "\n",
      "9.041918     3\n",
      "11.166689    3\n",
      "11.250104    3\n",
      "15.333486    3\n",
      "7.959064     3\n",
      "            ..\n",
      "12.416775    1\n",
      "13.833289    1\n",
      "14.250632    1\n",
      "23.044181    1\n",
      "10.374682    1\n",
      "Name: windspeed, Length: 649, dtype: int64 \n",
      "\n",
      "\n",
      "\n",
      "120     4\n",
      "968     4\n",
      "639     3\n",
      "163     3\n",
      "775     3\n",
      "       ..\n",
      "2521    1\n",
      "1935    1\n",
      "783     1\n",
      "688     1\n",
      "364     1\n",
      "Name: casual, Length: 605, dtype: int64 \n",
      "\n",
      "\n",
      "\n",
      "4841    3\n",
      "6248    3\n",
      "1707    3\n",
      "3461    2\n",
      "2713    2\n",
      "       ..\n",
      "4138    1\n",
      "3231    1\n",
      "4018    1\n",
      "3077    1\n",
      "2290    1\n",
      "Name: registered, Length: 678, dtype: int64 \n",
      "\n",
      "\n",
      "\n",
      "5409    2\n",
      "2424    2\n",
      "5698    2\n",
      "4459    2\n",
      "5119    2\n",
      "       ..\n",
      "5345    1\n",
      "5046    1\n",
      "4713    1\n",
      "4763    1\n",
      "2729    1\n",
      "Name: cnt, Length: 695, dtype: int64 \n",
      "\n",
      "\n",
      "\n"
     ]
    }
   ],
   "source": [
    "for col in bike_dummy:\n",
    "    print(bike_dummy[col].value_counts(ascending=False), '\\n\\n\\n')"
   ]
  },
  {
   "cell_type": "markdown",
   "metadata": {
    "papermill": {
     "duration": 0.094987,
     "end_time": "2022-01-22T13:16:22.585738",
     "exception": false,
     "start_time": "2022-01-22T13:16:22.490751",
     "status": "completed"
    },
    "tags": []
   },
   "source": [
    "### Insights \n",
    "There seems to be no Junk/Unknown values in the entire dataset."
   ]
  },
  {
   "cell_type": "markdown",
   "metadata": {
    "papermill": {
     "duration": 0.094395,
     "end_time": "2022-01-22T13:16:22.774506",
     "exception": false,
     "start_time": "2022-01-22T13:16:22.680111",
     "status": "completed"
    },
    "tags": []
   },
   "source": [
    "# Removing redundant & unwanted columns"
   ]
  },
  {
   "cell_type": "markdown",
   "metadata": {
    "papermill": {
     "duration": 0.09485,
     "end_time": "2022-01-22T13:16:22.966627",
     "exception": false,
     "start_time": "2022-01-22T13:16:22.871777",
     "status": "completed"
    },
    "tags": []
   },
   "source": [
    "Based on the high level look at the data and the data dictionary, the following variables can be removed from further analysis:\n",
    "\n",
    "1. **instant** : Its only an index value\n",
    "\n",
    "2. **dteday** : This has the date, Since we already have seperate columns for 'year' & 'month',hence, we could live without this column. \n",
    "\n",
    "3.  **casual & registered** : Both these columns contains the count of bike booked by different categories of customers.\n",
    "Since our objective is to find the total count of bikes and not by specific category, we will ignore these two columns.\n",
    "More over, we have created a new variable to have the ratio of these customer types.\n",
    "\n",
    "4.  We will save the new dataframe as bike_new, so that the original dataset is preserved for any future analysis/validation"
   ]
  },
  {
   "cell_type": "code",
   "execution_count": 14,
   "metadata": {
    "execution": {
     "iopub.execute_input": "2022-01-22T13:16:23.160299Z",
     "iopub.status.busy": "2022-01-22T13:16:23.159284Z",
     "iopub.status.idle": "2022-01-22T13:16:23.165308Z",
     "shell.execute_reply": "2022-01-22T13:16:23.165864Z"
    },
    "papermill": {
     "duration": 0.105717,
     "end_time": "2022-01-22T13:16:23.166010",
     "exception": false,
     "start_time": "2022-01-22T13:16:23.060293",
     "status": "completed"
    },
    "tags": []
   },
   "outputs": [
    {
     "data": {
      "text/plain": [
       "Index(['instant', 'dteday', 'season', 'yr', 'mnth', 'holiday', 'weekday',\n",
       "       'workingday', 'weathersit', 'temp', 'atemp', 'hum', 'windspeed',\n",
       "       'casual', 'registered', 'cnt'],\n",
       "      dtype='object')"
      ]
     },
     "execution_count": 14,
     "metadata": {},
     "output_type": "execute_result"
    }
   ],
   "source": [
    "bike_data.columns"
   ]
  },
  {
   "cell_type": "code",
   "execution_count": 15,
   "metadata": {
    "execution": {
     "iopub.execute_input": "2022-01-22T13:16:23.360314Z",
     "iopub.status.busy": "2022-01-22T13:16:23.359300Z",
     "iopub.status.idle": "2022-01-22T13:16:23.365693Z",
     "shell.execute_reply": "2022-01-22T13:16:23.366291Z"
    },
    "papermill": {
     "duration": 0.10477,
     "end_time": "2022-01-22T13:16:23.366443",
     "exception": false,
     "start_time": "2022-01-22T13:16:23.261673",
     "status": "completed"
    },
    "tags": []
   },
   "outputs": [],
   "source": [
    "bike_new=bike_data[['season', 'yr', 'mnth', 'holiday', 'weekday',\n",
    "       'workingday', 'weathersit', 'temp', 'atemp', 'hum', 'windspeed',\n",
    "       'cnt']]\n"
   ]
  },
  {
   "cell_type": "code",
   "execution_count": 16,
   "metadata": {
    "execution": {
     "iopub.execute_input": "2022-01-22T13:16:23.561476Z",
     "iopub.status.busy": "2022-01-22T13:16:23.560465Z",
     "iopub.status.idle": "2022-01-22T13:16:23.571941Z",
     "shell.execute_reply": "2022-01-22T13:16:23.572489Z"
    },
    "papermill": {
     "duration": 0.110965,
     "end_time": "2022-01-22T13:16:23.572651",
     "exception": false,
     "start_time": "2022-01-22T13:16:23.461686",
     "status": "completed"
    },
    "tags": []
   },
   "outputs": [
    {
     "name": "stdout",
     "output_type": "stream",
     "text": [
      "<class 'pandas.core.frame.DataFrame'>\n",
      "RangeIndex: 730 entries, 0 to 729\n",
      "Data columns (total 12 columns):\n",
      " #   Column      Non-Null Count  Dtype  \n",
      "---  ------      --------------  -----  \n",
      " 0   season      730 non-null    int64  \n",
      " 1   yr          730 non-null    int64  \n",
      " 2   mnth        730 non-null    int64  \n",
      " 3   holiday     730 non-null    int64  \n",
      " 4   weekday     730 non-null    int64  \n",
      " 5   workingday  730 non-null    int64  \n",
      " 6   weathersit  730 non-null    int64  \n",
      " 7   temp        730 non-null    float64\n",
      " 8   atemp       730 non-null    float64\n",
      " 9   hum         730 non-null    float64\n",
      " 10  windspeed   730 non-null    float64\n",
      " 11  cnt         730 non-null    int64  \n",
      "dtypes: float64(4), int64(8)\n",
      "memory usage: 68.6 KB\n"
     ]
    }
   ],
   "source": [
    "bike_new.info()"
   ]
  },
  {
   "cell_type": "markdown",
   "metadata": {
    "papermill": {
     "duration": 0.097464,
     "end_time": "2022-01-22T13:16:23.765652",
     "exception": false,
     "start_time": "2022-01-22T13:16:23.668188",
     "status": "completed"
    },
    "tags": []
   },
   "source": [
    "# Creating Dummy Variables of Columns"
   ]
  },
  {
   "cell_type": "markdown",
   "metadata": {
    "papermill": {
     "duration": 0.096841,
     "end_time": "2022-01-22T13:16:23.957585",
     "exception": false,
     "start_time": "2022-01-22T13:16:23.860744",
     "status": "completed"
    },
    "tags": []
   },
   "source": [
    "We will create DUMMY variables for 4 categorical variables 'mnth', 'weekday', 'season' & 'weathersit'. \n",
    "- Before creating dummy variables, we will have to convert them into 'category' data types."
   ]
  },
  {
   "cell_type": "code",
   "execution_count": 17,
   "metadata": {
    "execution": {
     "iopub.execute_input": "2022-01-22T13:16:24.153444Z",
     "iopub.status.busy": "2022-01-22T13:16:24.152458Z",
     "iopub.status.idle": "2022-01-22T13:16:24.162549Z",
     "shell.execute_reply": "2022-01-22T13:16:24.163089Z"
    },
    "papermill": {
     "duration": 0.10895,
     "end_time": "2022-01-22T13:16:24.163257",
     "exception": false,
     "start_time": "2022-01-22T13:16:24.054307",
     "status": "completed"
    },
    "scrolled": true,
    "tags": []
   },
   "outputs": [
    {
     "name": "stdout",
     "output_type": "stream",
     "text": [
      "<class 'pandas.core.frame.DataFrame'>\n",
      "RangeIndex: 730 entries, 0 to 729\n",
      "Data columns (total 12 columns):\n",
      " #   Column      Non-Null Count  Dtype  \n",
      "---  ------      --------------  -----  \n",
      " 0   season      730 non-null    int64  \n",
      " 1   yr          730 non-null    int64  \n",
      " 2   mnth        730 non-null    int64  \n",
      " 3   holiday     730 non-null    int64  \n",
      " 4   weekday     730 non-null    int64  \n",
      " 5   workingday  730 non-null    int64  \n",
      " 6   weathersit  730 non-null    int64  \n",
      " 7   temp        730 non-null    float64\n",
      " 8   atemp       730 non-null    float64\n",
      " 9   hum         730 non-null    float64\n",
      " 10  windspeed   730 non-null    float64\n",
      " 11  cnt         730 non-null    int64  \n",
      "dtypes: float64(4), int64(8)\n",
      "memory usage: 68.6 KB\n"
     ]
    }
   ],
   "source": [
    "# Check the datatypes before convertion\n",
    "bike_new.info()"
   ]
  },
  {
   "cell_type": "code",
   "execution_count": 18,
   "metadata": {
    "execution": {
     "iopub.execute_input": "2022-01-22T13:16:24.361357Z",
     "iopub.status.busy": "2022-01-22T13:16:24.360645Z",
     "iopub.status.idle": "2022-01-22T13:16:24.370527Z",
     "shell.execute_reply": "2022-01-22T13:16:24.371037Z"
    },
    "papermill": {
     "duration": 0.11064,
     "end_time": "2022-01-22T13:16:24.371225",
     "exception": false,
     "start_time": "2022-01-22T13:16:24.260585",
     "status": "completed"
    },
    "tags": []
   },
   "outputs": [],
   "source": [
    "# Convert to 'category' data type\n",
    "\n",
    "bike_new['season']=bike_new['season'].astype('category')\n",
    "bike_new['weathersit']=bike_new['weathersit'].astype('category')\n",
    "bike_new['mnth']=bike_new['mnth'].astype('category')\n",
    "bike_new['weekday']=bike_new['weekday'].astype('category')\n"
   ]
  },
  {
   "cell_type": "code",
   "execution_count": 19,
   "metadata": {
    "execution": {
     "iopub.execute_input": "2022-01-22T13:16:24.570895Z",
     "iopub.status.busy": "2022-01-22T13:16:24.570217Z",
     "iopub.status.idle": "2022-01-22T13:16:24.580254Z",
     "shell.execute_reply": "2022-01-22T13:16:24.580729Z"
    },
    "papermill": {
     "duration": 0.11226,
     "end_time": "2022-01-22T13:16:24.580884",
     "exception": false,
     "start_time": "2022-01-22T13:16:24.468624",
     "status": "completed"
    },
    "tags": []
   },
   "outputs": [
    {
     "name": "stdout",
     "output_type": "stream",
     "text": [
      "<class 'pandas.core.frame.DataFrame'>\n",
      "RangeIndex: 730 entries, 0 to 729\n",
      "Data columns (total 12 columns):\n",
      " #   Column      Non-Null Count  Dtype   \n",
      "---  ------      --------------  -----   \n",
      " 0   season      730 non-null    category\n",
      " 1   yr          730 non-null    int64   \n",
      " 2   mnth        730 non-null    category\n",
      " 3   holiday     730 non-null    int64   \n",
      " 4   weekday     730 non-null    category\n",
      " 5   workingday  730 non-null    int64   \n",
      " 6   weathersit  730 non-null    category\n",
      " 7   temp        730 non-null    float64 \n",
      " 8   atemp       730 non-null    float64 \n",
      " 9   hum         730 non-null    float64 \n",
      " 10  windspeed   730 non-null    float64 \n",
      " 11  cnt         730 non-null    int64   \n",
      "dtypes: category(4), float64(4), int64(4)\n",
      "memory usage: 49.7 KB\n"
     ]
    }
   ],
   "source": [
    "bike_new.info()"
   ]
  },
  {
   "cell_type": "code",
   "execution_count": 20,
   "metadata": {
    "execution": {
     "iopub.execute_input": "2022-01-22T13:16:24.780401Z",
     "iopub.status.busy": "2022-01-22T13:16:24.777774Z",
     "iopub.status.idle": "2022-01-22T13:16:24.808000Z",
     "shell.execute_reply": "2022-01-22T13:16:24.808677Z"
    },
    "papermill": {
     "duration": 0.131981,
     "end_time": "2022-01-22T13:16:24.808834",
     "exception": false,
     "start_time": "2022-01-22T13:16:24.676853",
     "status": "completed"
    },
    "tags": []
   },
   "outputs": [
    {
     "name": "stdout",
     "output_type": "stream",
     "text": [
      "<class 'pandas.core.frame.DataFrame'>\n",
      "RangeIndex: 730 entries, 0 to 729\n",
      "Data columns (total 30 columns):\n",
      " #   Column        Non-Null Count  Dtype  \n",
      "---  ------        --------------  -----  \n",
      " 0   yr            730 non-null    int64  \n",
      " 1   holiday       730 non-null    int64  \n",
      " 2   workingday    730 non-null    int64  \n",
      " 3   temp          730 non-null    float64\n",
      " 4   atemp         730 non-null    float64\n",
      " 5   hum           730 non-null    float64\n",
      " 6   windspeed     730 non-null    float64\n",
      " 7   cnt           730 non-null    int64  \n",
      " 8   season_2      730 non-null    uint8  \n",
      " 9   season_3      730 non-null    uint8  \n",
      " 10  season_4      730 non-null    uint8  \n",
      " 11  mnth_2        730 non-null    uint8  \n",
      " 12  mnth_3        730 non-null    uint8  \n",
      " 13  mnth_4        730 non-null    uint8  \n",
      " 14  mnth_5        730 non-null    uint8  \n",
      " 15  mnth_6        730 non-null    uint8  \n",
      " 16  mnth_7        730 non-null    uint8  \n",
      " 17  mnth_8        730 non-null    uint8  \n",
      " 18  mnth_9        730 non-null    uint8  \n",
      " 19  mnth_10       730 non-null    uint8  \n",
      " 20  mnth_11       730 non-null    uint8  \n",
      " 21  mnth_12       730 non-null    uint8  \n",
      " 22  weekday_1     730 non-null    uint8  \n",
      " 23  weekday_2     730 non-null    uint8  \n",
      " 24  weekday_3     730 non-null    uint8  \n",
      " 25  weekday_4     730 non-null    uint8  \n",
      " 26  weekday_5     730 non-null    uint8  \n",
      " 27  weekday_6     730 non-null    uint8  \n",
      " 28  weathersit_2  730 non-null    uint8  \n",
      " 29  weathersit_3  730 non-null    uint8  \n",
      "dtypes: float64(4), int64(4), uint8(22)\n",
      "memory usage: 61.4 KB\n"
     ]
    }
   ],
   "source": [
    "# This code does 3 things:\n",
    "# 1) Create Dummy variable\n",
    "# 2) Drop original variable for which the dummy was created\n",
    "# 3) Drop first dummy variable for each set of dummies created.\n",
    "\n",
    "bike_new = pd.get_dummies(bike_new, drop_first=True)\n",
    "bike_new.info()"
   ]
  },
  {
   "cell_type": "code",
   "execution_count": 21,
   "metadata": {
    "execution": {
     "iopub.execute_input": "2022-01-22T13:16:25.007485Z",
     "iopub.status.busy": "2022-01-22T13:16:25.006722Z",
     "iopub.status.idle": "2022-01-22T13:16:25.011487Z",
     "shell.execute_reply": "2022-01-22T13:16:25.012144Z"
    },
    "papermill": {
     "duration": 0.105515,
     "end_time": "2022-01-22T13:16:25.012298",
     "exception": false,
     "start_time": "2022-01-22T13:16:24.906783",
     "status": "completed"
    },
    "tags": []
   },
   "outputs": [
    {
     "data": {
      "text/plain": [
       "(730, 30)"
      ]
     },
     "execution_count": 21,
     "metadata": {},
     "output_type": "execute_result"
    }
   ],
   "source": [
    "bike_new.shape"
   ]
  },
  {
   "cell_type": "markdown",
   "metadata": {
    "papermill": {
     "duration": 0.099241,
     "end_time": "2022-01-22T13:16:25.209810",
     "exception": false,
     "start_time": "2022-01-22T13:16:25.110569",
     "status": "completed"
    },
    "tags": []
   },
   "source": [
    "## SPLITTING THE DATA\n",
    "- Splitting the data to Train and Test: - We will now split the data into TRAIN and TEST (70:30 ratio) \n",
    "- We will use train_test_split method from sklearn package for this"
   ]
  },
  {
   "cell_type": "code",
   "execution_count": 22,
   "metadata": {
    "execution": {
     "iopub.execute_input": "2022-01-22T13:16:25.409038Z",
     "iopub.status.busy": "2022-01-22T13:16:25.408328Z",
     "iopub.status.idle": "2022-01-22T13:16:25.413016Z",
     "shell.execute_reply": "2022-01-22T13:16:25.413657Z"
    },
    "papermill": {
     "duration": 0.106183,
     "end_time": "2022-01-22T13:16:25.413808",
     "exception": false,
     "start_time": "2022-01-22T13:16:25.307625",
     "status": "completed"
    },
    "tags": []
   },
   "outputs": [
    {
     "data": {
      "text/plain": [
       "(730, 30)"
      ]
     },
     "execution_count": 22,
     "metadata": {},
     "output_type": "execute_result"
    }
   ],
   "source": [
    "# Check the shape before spliting\n",
    "\n",
    "bike_new.shape"
   ]
  },
  {
   "cell_type": "code",
   "execution_count": 23,
   "metadata": {
    "execution": {
     "iopub.execute_input": "2022-01-22T13:16:25.612894Z",
     "iopub.status.busy": "2022-01-22T13:16:25.612233Z",
     "iopub.status.idle": "2022-01-22T13:16:25.626582Z",
     "shell.execute_reply": "2022-01-22T13:16:25.627099Z"
    },
    "papermill": {
     "duration": 0.115387,
     "end_time": "2022-01-22T13:16:25.627268",
     "exception": false,
     "start_time": "2022-01-22T13:16:25.511881",
     "status": "completed"
    },
    "tags": []
   },
   "outputs": [
    {
     "name": "stdout",
     "output_type": "stream",
     "text": [
      "<class 'pandas.core.frame.DataFrame'>\n",
      "RangeIndex: 730 entries, 0 to 729\n",
      "Data columns (total 30 columns):\n",
      " #   Column        Non-Null Count  Dtype  \n",
      "---  ------        --------------  -----  \n",
      " 0   yr            730 non-null    int64  \n",
      " 1   holiday       730 non-null    int64  \n",
      " 2   workingday    730 non-null    int64  \n",
      " 3   temp          730 non-null    float64\n",
      " 4   atemp         730 non-null    float64\n",
      " 5   hum           730 non-null    float64\n",
      " 6   windspeed     730 non-null    float64\n",
      " 7   cnt           730 non-null    int64  \n",
      " 8   season_2      730 non-null    uint8  \n",
      " 9   season_3      730 non-null    uint8  \n",
      " 10  season_4      730 non-null    uint8  \n",
      " 11  mnth_2        730 non-null    uint8  \n",
      " 12  mnth_3        730 non-null    uint8  \n",
      " 13  mnth_4        730 non-null    uint8  \n",
      " 14  mnth_5        730 non-null    uint8  \n",
      " 15  mnth_6        730 non-null    uint8  \n",
      " 16  mnth_7        730 non-null    uint8  \n",
      " 17  mnth_8        730 non-null    uint8  \n",
      " 18  mnth_9        730 non-null    uint8  \n",
      " 19  mnth_10       730 non-null    uint8  \n",
      " 20  mnth_11       730 non-null    uint8  \n",
      " 21  mnth_12       730 non-null    uint8  \n",
      " 22  weekday_1     730 non-null    uint8  \n",
      " 23  weekday_2     730 non-null    uint8  \n",
      " 24  weekday_3     730 non-null    uint8  \n",
      " 25  weekday_4     730 non-null    uint8  \n",
      " 26  weekday_5     730 non-null    uint8  \n",
      " 27  weekday_6     730 non-null    uint8  \n",
      " 28  weathersit_2  730 non-null    uint8  \n",
      " 29  weathersit_3  730 non-null    uint8  \n",
      "dtypes: float64(4), int64(4), uint8(22)\n",
      "memory usage: 61.4 KB\n"
     ]
    }
   ],
   "source": [
    "# Check the info before spliting\n",
    "\n",
    "bike_new.info()"
   ]
  },
  {
   "cell_type": "code",
   "execution_count": 24,
   "metadata": {
    "execution": {
     "iopub.execute_input": "2022-01-22T13:16:25.830454Z",
     "iopub.status.busy": "2022-01-22T13:16:25.829810Z",
     "iopub.status.idle": "2022-01-22T13:16:25.949595Z",
     "shell.execute_reply": "2022-01-22T13:16:25.948846Z"
    },
    "papermill": {
     "duration": 0.222065,
     "end_time": "2022-01-22T13:16:25.949725",
     "exception": false,
     "start_time": "2022-01-22T13:16:25.727660",
     "status": "completed"
    },
    "tags": []
   },
   "outputs": [],
   "source": [
    "from sklearn.model_selection import train_test_split\n",
    "\n",
    "# We should specify 'random_state' so that the train and test data set always have the same rows, respectively\n",
    "\n",
    "np.random.seed(0)\n",
    "df_train, df_test = train_test_split(bike_new, train_size = 0.70, test_size = 0.30, random_state = 333)"
   ]
  },
  {
   "cell_type": "markdown",
   "metadata": {
    "papermill": {
     "duration": 0.100189,
     "end_time": "2022-01-22T13:16:26.150213",
     "exception": false,
     "start_time": "2022-01-22T13:16:26.050024",
     "status": "completed"
    },
    "tags": []
   },
   "source": [
    "\n",
    "- Verify the info and shape of the dataframes after split:"
   ]
  },
  {
   "cell_type": "code",
   "execution_count": 25,
   "metadata": {
    "execution": {
     "iopub.execute_input": "2022-01-22T13:16:26.363890Z",
     "iopub.status.busy": "2022-01-22T13:16:26.357636Z",
     "iopub.status.idle": "2022-01-22T13:16:26.372741Z",
     "shell.execute_reply": "2022-01-22T13:16:26.372033Z"
    },
    "papermill": {
     "duration": 0.123142,
     "end_time": "2022-01-22T13:16:26.372861",
     "exception": false,
     "start_time": "2022-01-22T13:16:26.249719",
     "status": "completed"
    },
    "tags": []
   },
   "outputs": [
    {
     "name": "stdout",
     "output_type": "stream",
     "text": [
      "<class 'pandas.core.frame.DataFrame'>\n",
      "Int64Index: 510 entries, 483 to 366\n",
      "Data columns (total 30 columns):\n",
      " #   Column        Non-Null Count  Dtype  \n",
      "---  ------        --------------  -----  \n",
      " 0   yr            510 non-null    int64  \n",
      " 1   holiday       510 non-null    int64  \n",
      " 2   workingday    510 non-null    int64  \n",
      " 3   temp          510 non-null    float64\n",
      " 4   atemp         510 non-null    float64\n",
      " 5   hum           510 non-null    float64\n",
      " 6   windspeed     510 non-null    float64\n",
      " 7   cnt           510 non-null    int64  \n",
      " 8   season_2      510 non-null    uint8  \n",
      " 9   season_3      510 non-null    uint8  \n",
      " 10  season_4      510 non-null    uint8  \n",
      " 11  mnth_2        510 non-null    uint8  \n",
      " 12  mnth_3        510 non-null    uint8  \n",
      " 13  mnth_4        510 non-null    uint8  \n",
      " 14  mnth_5        510 non-null    uint8  \n",
      " 15  mnth_6        510 non-null    uint8  \n",
      " 16  mnth_7        510 non-null    uint8  \n",
      " 17  mnth_8        510 non-null    uint8  \n",
      " 18  mnth_9        510 non-null    uint8  \n",
      " 19  mnth_10       510 non-null    uint8  \n",
      " 20  mnth_11       510 non-null    uint8  \n",
      " 21  mnth_12       510 non-null    uint8  \n",
      " 22  weekday_1     510 non-null    uint8  \n",
      " 23  weekday_2     510 non-null    uint8  \n",
      " 24  weekday_3     510 non-null    uint8  \n",
      " 25  weekday_4     510 non-null    uint8  \n",
      " 26  weekday_5     510 non-null    uint8  \n",
      " 27  weekday_6     510 non-null    uint8  \n",
      " 28  weathersit_2  510 non-null    uint8  \n",
      " 29  weathersit_3  510 non-null    uint8  \n",
      "dtypes: float64(4), int64(4), uint8(22)\n",
      "memory usage: 46.8 KB\n"
     ]
    }
   ],
   "source": [
    "df_train.info()"
   ]
  },
  {
   "cell_type": "code",
   "execution_count": 26,
   "metadata": {
    "execution": {
     "iopub.execute_input": "2022-01-22T13:16:26.575987Z",
     "iopub.status.busy": "2022-01-22T13:16:26.575174Z",
     "iopub.status.idle": "2022-01-22T13:16:26.578977Z",
     "shell.execute_reply": "2022-01-22T13:16:26.578333Z"
    },
    "papermill": {
     "duration": 0.107913,
     "end_time": "2022-01-22T13:16:26.579094",
     "exception": false,
     "start_time": "2022-01-22T13:16:26.471181",
     "status": "completed"
    },
    "tags": []
   },
   "outputs": [
    {
     "data": {
      "text/plain": [
       "(510, 30)"
      ]
     },
     "execution_count": 26,
     "metadata": {},
     "output_type": "execute_result"
    }
   ],
   "source": [
    "df_train.shape"
   ]
  },
  {
   "cell_type": "code",
   "execution_count": 27,
   "metadata": {
    "execution": {
     "iopub.execute_input": "2022-01-22T13:16:26.785431Z",
     "iopub.status.busy": "2022-01-22T13:16:26.784728Z",
     "iopub.status.idle": "2022-01-22T13:16:26.799648Z",
     "shell.execute_reply": "2022-01-22T13:16:26.800136Z"
    },
    "papermill": {
     "duration": 0.120356,
     "end_time": "2022-01-22T13:16:26.800305",
     "exception": false,
     "start_time": "2022-01-22T13:16:26.679949",
     "status": "completed"
    },
    "tags": []
   },
   "outputs": [
    {
     "name": "stdout",
     "output_type": "stream",
     "text": [
      "<class 'pandas.core.frame.DataFrame'>\n",
      "Int64Index: 219 entries, 22 to 313\n",
      "Data columns (total 30 columns):\n",
      " #   Column        Non-Null Count  Dtype  \n",
      "---  ------        --------------  -----  \n",
      " 0   yr            219 non-null    int64  \n",
      " 1   holiday       219 non-null    int64  \n",
      " 2   workingday    219 non-null    int64  \n",
      " 3   temp          219 non-null    float64\n",
      " 4   atemp         219 non-null    float64\n",
      " 5   hum           219 non-null    float64\n",
      " 6   windspeed     219 non-null    float64\n",
      " 7   cnt           219 non-null    int64  \n",
      " 8   season_2      219 non-null    uint8  \n",
      " 9   season_3      219 non-null    uint8  \n",
      " 10  season_4      219 non-null    uint8  \n",
      " 11  mnth_2        219 non-null    uint8  \n",
      " 12  mnth_3        219 non-null    uint8  \n",
      " 13  mnth_4        219 non-null    uint8  \n",
      " 14  mnth_5        219 non-null    uint8  \n",
      " 15  mnth_6        219 non-null    uint8  \n",
      " 16  mnth_7        219 non-null    uint8  \n",
      " 17  mnth_8        219 non-null    uint8  \n",
      " 18  mnth_9        219 non-null    uint8  \n",
      " 19  mnth_10       219 non-null    uint8  \n",
      " 20  mnth_11       219 non-null    uint8  \n",
      " 21  mnth_12       219 non-null    uint8  \n",
      " 22  weekday_1     219 non-null    uint8  \n",
      " 23  weekday_2     219 non-null    uint8  \n",
      " 24  weekday_3     219 non-null    uint8  \n",
      " 25  weekday_4     219 non-null    uint8  \n",
      " 26  weekday_5     219 non-null    uint8  \n",
      " 27  weekday_6     219 non-null    uint8  \n",
      " 28  weathersit_2  219 non-null    uint8  \n",
      " 29  weathersit_3  219 non-null    uint8  \n",
      "dtypes: float64(4), int64(4), uint8(22)\n",
      "memory usage: 20.1 KB\n"
     ]
    }
   ],
   "source": [
    "df_test.info()"
   ]
  },
  {
   "cell_type": "code",
   "execution_count": 28,
   "metadata": {
    "execution": {
     "iopub.execute_input": "2022-01-22T13:16:27.007929Z",
     "iopub.status.busy": "2022-01-22T13:16:27.007232Z",
     "iopub.status.idle": "2022-01-22T13:16:27.012415Z",
     "shell.execute_reply": "2022-01-22T13:16:27.012900Z"
    },
    "papermill": {
     "duration": 0.11197,
     "end_time": "2022-01-22T13:16:27.013066",
     "exception": false,
     "start_time": "2022-01-22T13:16:26.901096",
     "status": "completed"
    },
    "tags": []
   },
   "outputs": [
    {
     "data": {
      "text/plain": [
       "(219, 30)"
      ]
     },
     "execution_count": 28,
     "metadata": {},
     "output_type": "execute_result"
    }
   ],
   "source": [
    "df_test.shape"
   ]
  },
  {
   "cell_type": "markdown",
   "metadata": {
    "papermill": {
     "duration": 0.099974,
     "end_time": "2022-01-22T13:16:27.215320",
     "exception": false,
     "start_time": "2022-01-22T13:16:27.115346",
     "status": "completed"
    },
    "tags": []
   },
   "source": [
    "# EXPLORATORY DATA ANALYSIS"
   ]
  },
  {
   "cell_type": "markdown",
   "metadata": {
    "papermill": {
     "duration": 0.100334,
     "end_time": "2022-01-22T13:16:27.616415",
     "exception": false,
     "start_time": "2022-01-22T13:16:27.516081",
     "status": "completed"
    },
    "tags": []
   },
   "source": [
    "## Visualising Numeric Variables\n",
    "Let's make a pairplot of all the numeric variables."
   ]
  },
  {
   "cell_type": "code",
   "execution_count": 29,
   "metadata": {
    "execution": {
     "iopub.execute_input": "2022-01-22T13:16:27.822084Z",
     "iopub.status.busy": "2022-01-22T13:16:27.821056Z",
     "iopub.status.idle": "2022-01-22T13:16:27.836391Z",
     "shell.execute_reply": "2022-01-22T13:16:27.836919Z"
    },
    "papermill": {
     "duration": 0.119546,
     "end_time": "2022-01-22T13:16:27.837080",
     "exception": false,
     "start_time": "2022-01-22T13:16:27.717534",
     "status": "completed"
    },
    "scrolled": true,
    "tags": []
   },
   "outputs": [
    {
     "name": "stdout",
     "output_type": "stream",
     "text": [
      "<class 'pandas.core.frame.DataFrame'>\n",
      "Int64Index: 510 entries, 483 to 366\n",
      "Data columns (total 30 columns):\n",
      " #   Column        Non-Null Count  Dtype  \n",
      "---  ------        --------------  -----  \n",
      " 0   yr            510 non-null    int64  \n",
      " 1   holiday       510 non-null    int64  \n",
      " 2   workingday    510 non-null    int64  \n",
      " 3   temp          510 non-null    float64\n",
      " 4   atemp         510 non-null    float64\n",
      " 5   hum           510 non-null    float64\n",
      " 6   windspeed     510 non-null    float64\n",
      " 7   cnt           510 non-null    int64  \n",
      " 8   season_2      510 non-null    uint8  \n",
      " 9   season_3      510 non-null    uint8  \n",
      " 10  season_4      510 non-null    uint8  \n",
      " 11  mnth_2        510 non-null    uint8  \n",
      " 12  mnth_3        510 non-null    uint8  \n",
      " 13  mnth_4        510 non-null    uint8  \n",
      " 14  mnth_5        510 non-null    uint8  \n",
      " 15  mnth_6        510 non-null    uint8  \n",
      " 16  mnth_7        510 non-null    uint8  \n",
      " 17  mnth_8        510 non-null    uint8  \n",
      " 18  mnth_9        510 non-null    uint8  \n",
      " 19  mnth_10       510 non-null    uint8  \n",
      " 20  mnth_11       510 non-null    uint8  \n",
      " 21  mnth_12       510 non-null    uint8  \n",
      " 22  weekday_1     510 non-null    uint8  \n",
      " 23  weekday_2     510 non-null    uint8  \n",
      " 24  weekday_3     510 non-null    uint8  \n",
      " 25  weekday_4     510 non-null    uint8  \n",
      " 26  weekday_5     510 non-null    uint8  \n",
      " 27  weekday_6     510 non-null    uint8  \n",
      " 28  weathersit_2  510 non-null    uint8  \n",
      " 29  weathersit_3  510 non-null    uint8  \n",
      "dtypes: float64(4), int64(4), uint8(22)\n",
      "memory usage: 46.8 KB\n"
     ]
    }
   ],
   "source": [
    "df_train.info()"
   ]
  },
  {
   "cell_type": "code",
   "execution_count": 30,
   "metadata": {
    "execution": {
     "iopub.execute_input": "2022-01-22T13:16:28.047676Z",
     "iopub.status.busy": "2022-01-22T13:16:28.046672Z",
     "iopub.status.idle": "2022-01-22T13:16:28.052902Z",
     "shell.execute_reply": "2022-01-22T13:16:28.053516Z"
    },
    "papermill": {
     "duration": 0.114705,
     "end_time": "2022-01-22T13:16:28.053671",
     "exception": false,
     "start_time": "2022-01-22T13:16:27.938966",
     "status": "completed"
    },
    "tags": []
   },
   "outputs": [
    {
     "data": {
      "text/plain": [
       "Index(['yr', 'holiday', 'workingday', 'temp', 'atemp', 'hum', 'windspeed',\n",
       "       'cnt', 'season_2', 'season_3', 'season_4', 'mnth_2', 'mnth_3', 'mnth_4',\n",
       "       'mnth_5', 'mnth_6', 'mnth_7', 'mnth_8', 'mnth_9', 'mnth_10', 'mnth_11',\n",
       "       'mnth_12', 'weekday_1', 'weekday_2', 'weekday_3', 'weekday_4',\n",
       "       'weekday_5', 'weekday_6', 'weathersit_2', 'weathersit_3'],\n",
       "      dtype='object')"
      ]
     },
     "execution_count": 30,
     "metadata": {},
     "output_type": "execute_result"
    }
   ],
   "source": [
    "df_train.columns"
   ]
  },
  {
   "cell_type": "code",
   "execution_count": 31,
   "metadata": {
    "execution": {
     "iopub.execute_input": "2022-01-22T13:16:28.266613Z",
     "iopub.status.busy": "2022-01-22T13:16:28.265931Z",
     "iopub.status.idle": "2022-01-22T13:16:34.923512Z",
     "shell.execute_reply": "2022-01-22T13:16:34.924036Z"
    },
    "papermill": {
     "duration": 6.76767,
     "end_time": "2022-01-22T13:16:34.924199",
     "exception": false,
     "start_time": "2022-01-22T13:16:28.156529",
     "status": "completed"
    },
    "tags": []
   },
   "outputs": [
    {
     "data": {
      "image/png": "[encoded data removed]",
      "text/plain": [
       "<Figure size 900x900 with 30 Axes>"
      ]
     },
     "metadata": {
      "needs_background": "light"
     },
     "output_type": "display_data"
    }
   ],
   "source": [
    "# Create a new dataframe of only numeric variables:\n",
    "\n",
    "bike_num=df_train[[ 'temp', 'atemp', 'hum', 'windspeed','cnt']]\n",
    "\n",
    "sns.pairplot(bike_num, diag_kind='kde')\n",
    "plt.show()"
   ]
  },
  {
   "cell_type": "markdown",
   "metadata": {
    "papermill": {
     "duration": 0.111485,
     "end_time": "2022-01-22T13:16:35.149168",
     "exception": false,
     "start_time": "2022-01-22T13:16:35.037683",
     "status": "completed"
    },
    "tags": []
   },
   "source": [
    "### Insights\n",
    "- The above Pair-Plot tells us that there is a LINEAR RELATION between 'temp','atemp' and 'cnt' "
   ]
  },
  {
   "cell_type": "markdown",
   "metadata": {
    "papermill": {
     "duration": 0.114965,
     "end_time": "2022-01-22T13:16:35.378806",
     "exception": false,
     "start_time": "2022-01-22T13:16:35.263841",
     "status": "completed"
    },
    "tags": []
   },
   "source": [
    "## Visualising Catagorical Variables"
   ]
  },
  {
   "cell_type": "code",
   "execution_count": 32,
   "metadata": {
    "execution": {
     "iopub.execute_input": "2022-01-22T13:16:35.604884Z",
     "iopub.status.busy": "2022-01-22T13:16:35.604159Z",
     "iopub.status.idle": "2022-01-22T13:16:35.619687Z",
     "shell.execute_reply": "2022-01-22T13:16:35.620308Z"
    },
    "papermill": {
     "duration": 0.132036,
     "end_time": "2022-01-22T13:16:35.620470",
     "exception": false,
     "start_time": "2022-01-22T13:16:35.488434",
     "status": "completed"
    },
    "tags": []
   },
   "outputs": [
    {
     "name": "stdout",
     "output_type": "stream",
     "text": [
      "<class 'pandas.core.frame.DataFrame'>\n",
      "Int64Index: 510 entries, 483 to 366\n",
      "Data columns (total 30 columns):\n",
      " #   Column        Non-Null Count  Dtype  \n",
      "---  ------        --------------  -----  \n",
      " 0   yr            510 non-null    int64  \n",
      " 1   holiday       510 non-null    int64  \n",
      " 2   workingday    510 non-null    int64  \n",
      " 3   temp          510 non-null    float64\n",
      " 4   atemp         510 non-null    float64\n",
      " 5   hum           510 non-null    float64\n",
      " 6   windspeed     510 non-null    float64\n",
      " 7   cnt           510 non-null    int64  \n",
      " 8   season_2      510 non-null    uint8  \n",
      " 9   season_3      510 non-null    uint8  \n",
      " 10  season_4      510 non-null    uint8  \n",
      " 11  mnth_2        510 non-null    uint8  \n",
      " 12  mnth_3        510 non-null    uint8  \n",
      " 13  mnth_4        510 non-null    uint8  \n",
      " 14  mnth_5        510 non-null    uint8  \n",
      " 15  mnth_6        510 non-null    uint8  \n",
      " 16  mnth_7        510 non-null    uint8  \n",
      " 17  mnth_8        510 non-null    uint8  \n",
      " 18  mnth_9        510 non-null    uint8  \n",
      " 19  mnth_10       510 non-null    uint8  \n",
      " 20  mnth_11       510 non-null    uint8  \n",
      " 21  mnth_12       510 non-null    uint8  \n",
      " 22  weekday_1     510 non-null    uint8  \n",
      " 23  weekday_2     510 non-null    uint8  \n",
      " 24  weekday_3     510 non-null    uint8  \n",
      " 25  weekday_4     510 non-null    uint8  \n",
      " 26  weekday_5     510 non-null    uint8  \n",
      " 27  weekday_6     510 non-null    uint8  \n",
      " 28  weathersit_2  510 non-null    uint8  \n",
      " 29  weathersit_3  510 non-null    uint8  \n",
      "dtypes: float64(4), int64(4), uint8(22)\n",
      "memory usage: 63.0 KB\n"
     ]
    }
   ],
   "source": [
    "df_train.info()"
   ]
  },
  {
   "cell_type": "code",
   "execution_count": 33,
   "metadata": {
    "execution": {
     "iopub.execute_input": "2022-01-22T13:16:35.850431Z",
     "iopub.status.busy": "2022-01-22T13:16:35.849709Z",
     "iopub.status.idle": "2022-01-22T13:16:36.996089Z",
     "shell.execute_reply": "2022-01-22T13:16:36.995489Z"
    },
    "papermill": {
     "duration": 1.262997,
     "end_time": "2022-01-22T13:16:36.996224",
     "exception": false,
     "start_time": "2022-01-22T13:16:35.733227",
     "status": "completed"
    },
    "tags": []
   },
   "outputs": [
    {
     "ename": "NameError",
     "evalue": "name 'bike' is not defined",
     "output_type": "error",
     "traceback": [
      "\u001b[1;31m---------------------------------------------------------------------------\u001b[0m",
      "\u001b[1;31mNameError\u001b[0m                                 Traceback (most recent call last)",
      "\u001b[1;32m~\\AppData\\Local\\Temp/ipykernel_9452/2752953640.py\u001b[0m in \u001b[0;36m<module>\u001b[1;34m\u001b[0m\n\u001b[0;32m      4\u001b[0m \u001b[0mplt\u001b[0m\u001b[1;33m.\u001b[0m\u001b[0mfigure\u001b[0m\u001b[1;33m(\u001b[0m\u001b[0mfigsize\u001b[0m\u001b[1;33m=\u001b[0m\u001b[1;33m(\u001b[0m\u001b[1;36m25\u001b[0m\u001b[1;33m,\u001b[0m \u001b[1;36m10\u001b[0m\u001b[1;33m)\u001b[0m\u001b[1;33m)\u001b[0m\u001b[1;33m\u001b[0m\u001b[1;33m\u001b[0m\u001b[0m\n\u001b[0;32m      5\u001b[0m \u001b[0mplt\u001b[0m\u001b[1;33m.\u001b[0m\u001b[0msubplot\u001b[0m\u001b[1;33m(\u001b[0m\u001b[1;36m2\u001b[0m\u001b[1;33m,\u001b[0m\u001b[1;36m3\u001b[0m\u001b[1;33m,\u001b[0m\u001b[1;36m1\u001b[0m\u001b[1;33m)\u001b[0m\u001b[1;33m\u001b[0m\u001b[1;33m\u001b[0m\u001b[0m\n\u001b[1;32m----> 6\u001b[1;33m \u001b[0msns\u001b[0m\u001b[1;33m.\u001b[0m\u001b[0mboxplot\u001b[0m\u001b[1;33m(\u001b[0m\u001b[0mx\u001b[0m \u001b[1;33m=\u001b[0m \u001b[1;34m'season'\u001b[0m\u001b[1;33m,\u001b[0m \u001b[0my\u001b[0m \u001b[1;33m=\u001b[0m \u001b[1;34m'cnt'\u001b[0m\u001b[1;33m,\u001b[0m \u001b[0mdata\u001b[0m \u001b[1;33m=\u001b[0m \u001b[0mbike\u001b[0m\u001b[1;33m)\u001b[0m\u001b[1;33m\u001b[0m\u001b[1;33m\u001b[0m\u001b[0m\n\u001b[0m\u001b[0;32m      7\u001b[0m \u001b[0mplt\u001b[0m\u001b[1;33m.\u001b[0m\u001b[0msubplot\u001b[0m\u001b[1;33m(\u001b[0m\u001b[1;36m2\u001b[0m\u001b[1;33m,\u001b[0m\u001b[1;36m3\u001b[0m\u001b[1;33m,\u001b[0m\u001b[1;36m2\u001b[0m\u001b[1;33m)\u001b[0m\u001b[1;33m\u001b[0m\u001b[1;33m\u001b[0m\u001b[0m\n\u001b[0;32m      8\u001b[0m \u001b[0msns\u001b[0m\u001b[1;33m.\u001b[0m\u001b[0mboxplot\u001b[0m\u001b[1;33m(\u001b[0m\u001b[0mx\u001b[0m \u001b[1;33m=\u001b[0m \u001b[1;34m'mnth'\u001b[0m\u001b[1;33m,\u001b[0m \u001b[0my\u001b[0m \u001b[1;33m=\u001b[0m \u001b[1;34m'cnt'\u001b[0m\u001b[1;33m,\u001b[0m \u001b[0mdata\u001b[0m \u001b[1;33m=\u001b[0m \u001b[0mbike\u001b[0m\u001b[1;33m)\u001b[0m\u001b[1;33m\u001b[0m\u001b[1;33m\u001b[0m\u001b[0m\n",
      "\u001b[1;31mNameError\u001b[0m: name 'bike' is not defined"
     ]
    },
    {
     "data": {
      "image/png": "[encoded data removed]",
      "text/plain": [
       "<Figure size 1800x720 with 1 Axes>"
      ]
     },
     "metadata": {
      "needs_background": "light"
     },
     "output_type": "display_data"
    }
   ],
   "source": [
    "# Build boxplot of all categorical variables (before creating dummies) againt the target variable 'cnt' \n",
    "# to see how each of the predictor variable stackup against the target variable.\n",
    "\n",
    "plt.figure(figsize=(25, 10))\n",
    "plt.subplot(2,3,1)\n",
    "sns.boxplot(x = 'season', y = 'cnt', data = bike)\n",
    "plt.subplot(2,3,2)\n",
    "sns.boxplot(x = 'mnth', y = 'cnt', data = bike)\n",
    "plt.subplot(2,3,3)\n",
    "sns.boxplot(x = 'weathersit', y = 'cnt', data = bike)\n",
    "plt.subplot(2,3,4)\n",
    "sns.boxplot(x = 'holiday', y = 'cnt', data = bike)\n",
    "plt.subplot(2,3,5)\n",
    "sns.boxplot(x = 'weekday', y = 'cnt', data = bike)\n",
    "plt.subplot(2,3,6)\n",
    "sns.boxplot(x = 'workingday', y = 'cnt', data = bike)\n",
    "plt.show()"
   ]
  },
  {
   "cell_type": "markdown",
   "metadata": {
    "papermill": {
     "duration": 0.13549,
     "end_time": "2022-01-22T13:16:37.261667",
     "exception": false,
     "start_time": "2022-01-22T13:16:37.126177",
     "status": "completed"
    },
    "tags": []
   },
   "source": [
    "### Insights\n",
    "There were 6 categorical variables in the dataset. \n",
    "\n",
    "We used Box plot (refer the fig above) to study their effect on the dependent variable (‘cnt’) . \n",
    "\n",
    "The inference that We could derive were: \n",
    "- **season**: Almost 32% of the bike booking were happening in season3 with a median of over 5000 booking (for the period of 2 years). This was followed by season2 & season4 with 27% & 25% of total booking. This indicates, season can be a good predictor for the dependent variable.\n",
    "\n",
    "- **mnth**: Almost 10% of the bike booking were happening in the months 5,6,7,8 & 9 with a median of over 4000 booking per month. This indicates, mnth has some trend for bookings and can be a good predictor for the dependent variable. \n",
    "- **weathersit**: Almost 67% of the bike booking were happening during ‘weathersit1 with a median of close to 5000 booking (for the period of 2 years). This was followed by weathersit2 with 30% of total booking. This indicates, weathersit does show some trend towards the bike bookings can be a good predictor for the dependent variable.\n",
    "- **holiday**: Almost 97.6% of the bike booking were happening when it is not a holiday which means this data is clearly biased. This indicates, holiday CANNOT be a good predictor for the dependent variable. \n",
    "- **weekday**: weekday variable shows very close trend (between 13.5%-14.8% of total booking on all days of the week) having their independent medians between 4000 to 5000 bookings. This variable can have some or no influence towards the predictor. I will let the model decide if this needs to be added or not.\n",
    "- **workingday**: Almost 69% of the bike booking were happening in ‘workingday’ with a median of close to 5000 booking (for the period of 2 years). This indicates, workingday can be a good predictor for the dependent variable"
   ]
  },
  {
   "cell_type": "markdown",
   "metadata": {
    "papermill": {
     "duration": 0.141779,
     "end_time": "2022-01-22T13:16:37.526734",
     "exception": false,
     "start_time": "2022-01-22T13:16:37.384955",
     "status": "completed"
    },
    "tags": []
   },
   "source": [
    "## Correlation Matrix"
   ]
  },
  {
   "cell_type": "code",
   "execution_count": null,
   "metadata": {
    "execution": {
     "iopub.execute_input": "2022-01-22T13:16:37.757244Z",
     "iopub.status.busy": "2022-01-22T13:16:37.756545Z",
     "iopub.status.idle": "2022-01-22T13:16:41.038082Z",
     "shell.execute_reply": "2022-01-22T13:16:41.038616Z"
    },
    "papermill": {
     "duration": 3.398952,
     "end_time": "2022-01-22T13:16:41.038764",
     "exception": false,
     "start_time": "2022-01-22T13:16:37.639812",
     "status": "completed"
    },
    "tags": []
   },
   "outputs": [],
   "source": [
    "# Let's check the correlation coefficients to see which variables are highly correlated. Note:\n",
    "# here we are considering only those variables (dataframe: bike_new) that were chosen for analysis\n",
    "\n",
    "plt.figure(figsize = (25,20))\n",
    "sns.heatmap(bike_new.corr(), annot = True, cmap=\"RdBu\")\n",
    "plt.show()"
   ]
  },
  {
   "cell_type": "markdown",
   "metadata": {
    "papermill": {
     "duration": 0.122523,
     "end_time": "2022-01-22T13:16:41.286527",
     "exception": false,
     "start_time": "2022-01-22T13:16:41.164004",
     "status": "completed"
    },
    "tags": []
   },
   "source": [
    "### Insights:\n",
    " - The heatmap clearly shows which all variable are multicollinear in nature, and which variable have high collinearity with the target variable.\n",
    " - We will refer this map back-and-forth while building the linear model so as to validate different correlated values along with VIF & p-value, for identifying the correct variable to select/eliminate from the model."
   ]
  },
  {
   "cell_type": "markdown",
   "metadata": {
    "papermill": {
     "duration": 0.121603,
     "end_time": "2022-01-22T13:16:41.529296",
     "exception": false,
     "start_time": "2022-01-22T13:16:41.407693",
     "status": "completed"
    },
    "tags": []
   },
   "source": [
    "# RESCALING THE FEATURES"
   ]
  },
  {
   "cell_type": "code",
   "execution_count": null,
   "metadata": {
    "execution": {
     "iopub.execute_input": "2022-01-22T13:16:41.779773Z",
     "iopub.status.busy": "2022-01-22T13:16:41.778942Z",
     "iopub.status.idle": "2022-01-22T13:16:41.781918Z",
     "shell.execute_reply": "2022-01-22T13:16:41.781399Z"
    },
    "papermill": {
     "duration": 0.130635,
     "end_time": "2022-01-22T13:16:41.782044",
     "exception": false,
     "start_time": "2022-01-22T13:16:41.651409",
     "status": "completed"
    },
    "tags": []
   },
   "outputs": [],
   "source": [
    "from sklearn.preprocessing import MinMaxScaler"
   ]
  },
  {
   "cell_type": "code",
   "execution_count": null,
   "metadata": {
    "execution": {
     "iopub.execute_input": "2022-01-22T13:16:42.034188Z",
     "iopub.status.busy": "2022-01-22T13:16:42.033243Z",
     "iopub.status.idle": "2022-01-22T13:16:42.036082Z",
     "shell.execute_reply": "2022-01-22T13:16:42.035554Z"
    },
    "papermill": {
     "duration": 0.132286,
     "end_time": "2022-01-22T13:16:42.036242",
     "exception": false,
     "start_time": "2022-01-22T13:16:41.903956",
     "status": "completed"
    },
    "tags": []
   },
   "outputs": [],
   "source": [
    "scaler = MinMaxScaler()"
   ]
  },
  {
   "cell_type": "code",
   "execution_count": null,
   "metadata": {
    "execution": {
     "iopub.execute_input": "2022-01-22T13:16:42.297408Z",
     "iopub.status.busy": "2022-01-22T13:16:42.292196Z",
     "iopub.status.idle": "2022-01-22T13:16:42.312929Z",
     "shell.execute_reply": "2022-01-22T13:16:42.312245Z"
    },
    "papermill": {
     "duration": 0.152547,
     "end_time": "2022-01-22T13:16:42.313049",
     "exception": false,
     "start_time": "2022-01-22T13:16:42.160502",
     "status": "completed"
    },
    "tags": []
   },
   "outputs": [],
   "source": [
    "# Checking the values before scaling\n",
    "df_train.head()"
   ]
  },
  {
   "cell_type": "code",
   "execution_count": null,
   "metadata": {
    "execution": {
     "iopub.execute_input": "2022-01-22T13:16:42.569133Z",
     "iopub.status.busy": "2022-01-22T13:16:42.568449Z",
     "iopub.status.idle": "2022-01-22T13:16:42.572756Z",
     "shell.execute_reply": "2022-01-22T13:16:42.573307Z"
    },
    "papermill": {
     "duration": 0.133881,
     "end_time": "2022-01-22T13:16:42.573453",
     "exception": false,
     "start_time": "2022-01-22T13:16:42.439572",
     "status": "completed"
    },
    "tags": []
   },
   "outputs": [],
   "source": [
    "df_train.columns"
   ]
  },
  {
   "cell_type": "code",
   "execution_count": null,
   "metadata": {
    "execution": {
     "iopub.execute_input": "2022-01-22T13:16:42.832330Z",
     "iopub.status.busy": "2022-01-22T13:16:42.831618Z",
     "iopub.status.idle": "2022-01-22T13:16:42.840008Z",
     "shell.execute_reply": "2022-01-22T13:16:42.839428Z"
    },
    "papermill": {
     "duration": 0.142934,
     "end_time": "2022-01-22T13:16:42.840150",
     "exception": false,
     "start_time": "2022-01-22T13:16:42.697216",
     "status": "completed"
    },
    "tags": []
   },
   "outputs": [],
   "source": [
    "# Apply scaler() to all the numeric variables\n",
    "\n",
    "num_vars = ['temp', 'atemp', 'hum', 'windspeed','cnt']\n",
    "\n",
    "df_train[num_vars] = scaler.fit_transform(df_train[num_vars])"
   ]
  },
  {
   "cell_type": "code",
   "execution_count": null,
   "metadata": {
    "execution": {
     "iopub.execute_input": "2022-01-22T13:16:43.097149Z",
     "iopub.status.busy": "2022-01-22T13:16:43.096464Z",
     "iopub.status.idle": "2022-01-22T13:16:43.116917Z",
     "shell.execute_reply": "2022-01-22T13:16:43.117491Z"
    },
    "papermill": {
     "duration": 0.152301,
     "end_time": "2022-01-22T13:16:43.117643",
     "exception": false,
     "start_time": "2022-01-22T13:16:42.965342",
     "status": "completed"
    },
    "tags": []
   },
   "outputs": [],
   "source": [
    "# Checking values after scaling\n",
    "df_train.head()"
   ]
  },
  {
   "cell_type": "code",
   "execution_count": null,
   "metadata": {
    "execution": {
     "iopub.execute_input": "2022-01-22T13:16:43.371858Z",
     "iopub.status.busy": "2022-01-22T13:16:43.371154Z",
     "iopub.status.idle": "2022-01-22T13:16:43.467863Z",
     "shell.execute_reply": "2022-01-22T13:16:43.467305Z"
    },
    "papermill": {
     "duration": 0.225844,
     "end_time": "2022-01-22T13:16:43.467992",
     "exception": false,
     "start_time": "2022-01-22T13:16:43.242148",
     "status": "completed"
    },
    "tags": []
   },
   "outputs": [],
   "source": [
    "df_train.describe()"
   ]
  },
  {
   "cell_type": "markdown",
   "metadata": {
    "papermill": {
     "duration": 0.125083,
     "end_time": "2022-01-22T13:16:43.719171",
     "exception": false,
     "start_time": "2022-01-22T13:16:43.594088",
     "status": "completed"
    },
    "tags": []
   },
   "source": [
    "# BUILDING A LINEAR MODEL"
   ]
  },
  {
   "cell_type": "markdown",
   "metadata": {
    "papermill": {
     "duration": 0.131005,
     "end_time": "2022-01-22T13:16:43.999022",
     "exception": false,
     "start_time": "2022-01-22T13:16:43.868017",
     "status": "completed"
    },
    "tags": []
   },
   "source": [
    "## Dividing into X and Y sets for the model building"
   ]
  },
  {
   "cell_type": "code",
   "execution_count": null,
   "metadata": {
    "execution": {
     "iopub.execute_input": "2022-01-22T13:16:44.258728Z",
     "iopub.status.busy": "2022-01-22T13:16:44.255818Z",
     "iopub.status.idle": "2022-01-22T13:16:44.261085Z",
     "shell.execute_reply": "2022-01-22T13:16:44.261756Z"
    },
    "papermill": {
     "duration": 0.136099,
     "end_time": "2022-01-22T13:16:44.261915",
     "exception": false,
     "start_time": "2022-01-22T13:16:44.125816",
     "status": "completed"
    },
    "tags": []
   },
   "outputs": [],
   "source": [
    "y_train = df_train.pop('cnt')\n",
    "X_train = df_train"
   ]
  },
  {
   "cell_type": "markdown",
   "metadata": {
    "papermill": {
     "duration": 0.127363,
     "end_time": "2022-01-22T13:16:44.517895",
     "exception": false,
     "start_time": "2022-01-22T13:16:44.390532",
     "status": "completed"
    },
    "tags": []
   },
   "source": [
    "### RFE\n",
    "Recursive feature elimination: We will be using the **LinearRegression function from SciKit Learn**  for its compatibility with RFE (which is a utility from sklearn)"
   ]
  },
  {
   "cell_type": "code",
   "execution_count": null,
   "metadata": {
    "execution": {
     "iopub.execute_input": "2022-01-22T13:16:44.774396Z",
     "iopub.status.busy": "2022-01-22T13:16:44.773354Z",
     "iopub.status.idle": "2022-01-22T13:16:44.926218Z",
     "shell.execute_reply": "2022-01-22T13:16:44.926780Z"
    },
    "papermill": {
     "duration": 0.282218,
     "end_time": "2022-01-22T13:16:44.926929",
     "exception": false,
     "start_time": "2022-01-22T13:16:44.644711",
     "status": "completed"
    },
    "tags": []
   },
   "outputs": [],
   "source": [
    "# Importing RFE and LinearRegression\n",
    "from sklearn.feature_selection import RFE\n",
    "from sklearn.linear_model import LinearRegression"
   ]
  },
  {
   "cell_type": "code",
   "execution_count": null,
   "metadata": {
    "execution": {
     "iopub.execute_input": "2022-01-22T13:16:45.187213Z",
     "iopub.status.busy": "2022-01-22T13:16:45.186195Z",
     "iopub.status.idle": "2022-01-22T13:16:45.265024Z",
     "shell.execute_reply": "2022-01-22T13:16:45.264173Z"
    },
    "papermill": {
     "duration": 0.21199,
     "end_time": "2022-01-22T13:16:45.265181",
     "exception": false,
     "start_time": "2022-01-22T13:16:45.053191",
     "status": "completed"
    },
    "tags": []
   },
   "outputs": [],
   "source": [
    "# Running RFE with the output number of the variable equal to 15\n",
    "lm = LinearRegression()\n",
    "lm.fit(X_train, y_train)\n",
    "\n",
    "rfe = RFE(lm, 15)             # running RFE\n",
    "rfe = rfe.fit(X_train, y_train)"
   ]
  },
  {
   "cell_type": "code",
   "execution_count": null,
   "metadata": {
    "execution": {
     "iopub.execute_input": "2022-01-22T13:16:45.523461Z",
     "iopub.status.busy": "2022-01-22T13:16:45.522425Z",
     "iopub.status.idle": "2022-01-22T13:16:45.531548Z",
     "shell.execute_reply": "2022-01-22T13:16:45.532106Z"
    },
    "papermill": {
     "duration": 0.139296,
     "end_time": "2022-01-22T13:16:45.532279",
     "exception": false,
     "start_time": "2022-01-22T13:16:45.392983",
     "status": "completed"
    },
    "tags": []
   },
   "outputs": [],
   "source": [
    "list(zip(X_train.columns,rfe.support_,rfe.ranking_))"
   ]
  },
  {
   "cell_type": "code",
   "execution_count": null,
   "metadata": {
    "execution": {
     "iopub.execute_input": "2022-01-22T13:16:45.791055Z",
     "iopub.status.busy": "2022-01-22T13:16:45.790019Z",
     "iopub.status.idle": "2022-01-22T13:16:45.796734Z",
     "shell.execute_reply": "2022-01-22T13:16:45.797303Z"
    },
    "papermill": {
     "duration": 0.137454,
     "end_time": "2022-01-22T13:16:45.797448",
     "exception": false,
     "start_time": "2022-01-22T13:16:45.659994",
     "status": "completed"
    },
    "tags": []
   },
   "outputs": [],
   "source": [
    "col = X_train.columns[rfe.support_]\n",
    "col"
   ]
  },
  {
   "cell_type": "code",
   "execution_count": null,
   "metadata": {
    "execution": {
     "iopub.execute_input": "2022-01-22T13:16:46.059273Z",
     "iopub.status.busy": "2022-01-22T13:16:46.058152Z",
     "iopub.status.idle": "2022-01-22T13:16:46.065958Z",
     "shell.execute_reply": "2022-01-22T13:16:46.066626Z"
    },
    "papermill": {
     "duration": 0.139102,
     "end_time": "2022-01-22T13:16:46.066791",
     "exception": false,
     "start_time": "2022-01-22T13:16:45.927689",
     "status": "completed"
    },
    "tags": []
   },
   "outputs": [],
   "source": [
    "X_train.columns[~rfe.support_]"
   ]
  },
  {
   "cell_type": "code",
   "execution_count": null,
   "metadata": {
    "execution": {
     "iopub.execute_input": "2022-01-22T13:16:46.339630Z",
     "iopub.status.busy": "2022-01-22T13:16:46.338631Z",
     "iopub.status.idle": "2022-01-22T13:16:46.343951Z",
     "shell.execute_reply": "2022-01-22T13:16:46.344507Z"
    },
    "papermill": {
     "duration": 0.145068,
     "end_time": "2022-01-22T13:16:46.344657",
     "exception": false,
     "start_time": "2022-01-22T13:16:46.199589",
     "status": "completed"
    },
    "tags": []
   },
   "outputs": [],
   "source": [
    "# Creating X_test dataframe with RFE selected variables\n",
    "X_train_rfe = X_train[col]"
   ]
  },
  {
   "cell_type": "markdown",
   "metadata": {
    "papermill": {
     "duration": 0.127713,
     "end_time": "2022-01-22T13:16:46.599773",
     "exception": false,
     "start_time": "2022-01-22T13:16:46.472060",
     "status": "completed"
    },
    "tags": []
   },
   "source": [
    "# Building Linear Model using 'STATS MODEL'"
   ]
  },
  {
   "cell_type": "markdown",
   "metadata": {
    "papermill": {
     "duration": 0.128955,
     "end_time": "2022-01-22T13:16:46.856360",
     "exception": false,
     "start_time": "2022-01-22T13:16:46.727405",
     "status": "completed"
    },
    "tags": []
   },
   "source": [
    "## Model 1"
   ]
  },
  {
   "cell_type": "markdown",
   "metadata": {
    "papermill": {
     "duration": 0.129741,
     "end_time": "2022-01-22T13:16:47.116101",
     "exception": false,
     "start_time": "2022-01-22T13:16:46.986360",
     "status": "completed"
    },
    "tags": []
   },
   "source": [
    "### VIF Check"
   ]
  },
  {
   "cell_type": "code",
   "execution_count": null,
   "metadata": {
    "execution": {
     "iopub.execute_input": "2022-01-22T13:16:47.379511Z",
     "iopub.status.busy": "2022-01-22T13:16:47.378808Z",
     "iopub.status.idle": "2022-01-22T13:16:47.507993Z",
     "shell.execute_reply": "2022-01-22T13:16:47.508864Z"
    },
    "papermill": {
     "duration": 0.265605,
     "end_time": "2022-01-22T13:16:47.509062",
     "exception": false,
     "start_time": "2022-01-22T13:16:47.243457",
     "status": "completed"
    },
    "tags": []
   },
   "outputs": [],
   "source": [
    "# Check for the VIF values of the feature variables. \n",
    "from statsmodels.stats.outliers_influence import variance_inflation_factor\n",
    "\n",
    "# Create a dataframe that will contain the names of all the feature variables and their respective VIFs\n",
    "vif = pd.DataFrame()\n",
    "vif['Features'] = X_train_rfe.columns\n",
    "vif['VIF'] = [variance_inflation_factor(X_train_rfe.values, i) for i in range(X_train_rfe.shape[1])]\n",
    "vif['VIF'] = round(vif['VIF'], 2)\n",
    "vif = vif.sort_values(by = \"VIF\", ascending = False)\n",
    "vif"
   ]
  },
  {
   "cell_type": "code",
   "execution_count": null,
   "metadata": {
    "execution": {
     "iopub.execute_input": "2022-01-22T13:16:47.777363Z",
     "iopub.status.busy": "2022-01-22T13:16:47.776316Z",
     "iopub.status.idle": "2022-01-22T13:16:48.350673Z",
     "shell.execute_reply": "2022-01-22T13:16:48.351181Z"
    },
    "papermill": {
     "duration": 0.708193,
     "end_time": "2022-01-22T13:16:48.351341",
     "exception": false,
     "start_time": "2022-01-22T13:16:47.643148",
     "status": "completed"
    },
    "tags": []
   },
   "outputs": [],
   "source": [
    "import statsmodels.api as sm\n",
    "\n",
    "# Add a constant\n",
    "X_train_lm1 = sm.add_constant(X_train_rfe)\n",
    "\n",
    "# Create a first fitted model\n",
    "lr1 = sm.OLS(y_train, X_train_lm1).fit()"
   ]
  },
  {
   "cell_type": "code",
   "execution_count": null,
   "metadata": {
    "execution": {
     "iopub.execute_input": "2022-01-22T13:16:48.615176Z",
     "iopub.status.busy": "2022-01-22T13:16:48.614097Z",
     "iopub.status.idle": "2022-01-22T13:16:48.621736Z",
     "shell.execute_reply": "2022-01-22T13:16:48.622951Z"
    },
    "papermill": {
     "duration": 0.143277,
     "end_time": "2022-01-22T13:16:48.623105",
     "exception": false,
     "start_time": "2022-01-22T13:16:48.479828",
     "status": "completed"
    },
    "tags": []
   },
   "outputs": [],
   "source": [
    "# Check the parameters obtained\n",
    "\n",
    "lr1.params"
   ]
  },
  {
   "cell_type": "code",
   "execution_count": null,
   "metadata": {
    "execution": {
     "iopub.execute_input": "2022-01-22T13:16:48.895574Z",
     "iopub.status.busy": "2022-01-22T13:16:48.894423Z",
     "iopub.status.idle": "2022-01-22T13:16:48.913446Z",
     "shell.execute_reply": "2022-01-22T13:16:48.912657Z"
    },
    "papermill": {
     "duration": 0.160609,
     "end_time": "2022-01-22T13:16:48.913642",
     "exception": false,
     "start_time": "2022-01-22T13:16:48.753033",
     "status": "completed"
    },
    "tags": []
   },
   "outputs": [],
   "source": [
    "# Print a summary of the linear regression model obtained\n",
    "print(lr1.summary())"
   ]
  },
  {
   "cell_type": "markdown",
   "metadata": {
    "papermill": {
     "duration": 0.134716,
     "end_time": "2022-01-22T13:16:49.179632",
     "exception": false,
     "start_time": "2022-01-22T13:16:49.044916",
     "status": "completed"
    },
    "tags": []
   },
   "source": [
    "## Model 2"
   ]
  },
  {
   "cell_type": "markdown",
   "metadata": {
    "papermill": {
     "duration": 0.131335,
     "end_time": "2022-01-22T13:16:49.443214",
     "exception": false,
     "start_time": "2022-01-22T13:16:49.311879",
     "status": "completed"
    },
    "tags": []
   },
   "source": [
    "- Removing the variable 'atemp' based on its High p-value & High VIF"
   ]
  },
  {
   "cell_type": "code",
   "execution_count": null,
   "metadata": {
    "execution": {
     "iopub.execute_input": "2022-01-22T13:16:49.709547Z",
     "iopub.status.busy": "2022-01-22T13:16:49.708826Z",
     "iopub.status.idle": "2022-01-22T13:16:49.711625Z",
     "shell.execute_reply": "2022-01-22T13:16:49.712323Z"
    },
    "papermill": {
     "duration": 0.139803,
     "end_time": "2022-01-22T13:16:49.712498",
     "exception": false,
     "start_time": "2022-01-22T13:16:49.572695",
     "status": "completed"
    },
    "tags": []
   },
   "outputs": [],
   "source": [
    "X_train_new = X_train_rfe.drop([\"atemp\"], axis = 1)"
   ]
  },
  {
   "cell_type": "markdown",
   "metadata": {
    "papermill": {
     "duration": 0.129778,
     "end_time": "2022-01-22T13:16:49.975229",
     "exception": false,
     "start_time": "2022-01-22T13:16:49.845451",
     "status": "completed"
    },
    "tags": []
   },
   "source": [
    "### VIF Check"
   ]
  },
  {
   "cell_type": "code",
   "execution_count": null,
   "metadata": {
    "execution": {
     "iopub.execute_input": "2022-01-22T13:16:50.248090Z",
     "iopub.status.busy": "2022-01-22T13:16:50.247388Z",
     "iopub.status.idle": "2022-01-22T13:16:50.280765Z",
     "shell.execute_reply": "2022-01-22T13:16:50.281383Z"
    },
    "papermill": {
     "duration": 0.175369,
     "end_time": "2022-01-22T13:16:50.281575",
     "exception": false,
     "start_time": "2022-01-22T13:16:50.106206",
     "status": "completed"
    },
    "tags": []
   },
   "outputs": [],
   "source": [
    "# Check for the VIF values of the feature variables. \n",
    "from statsmodels.stats.outliers_influence import variance_inflation_factor\n",
    "\n",
    "# Create a dataframe that will contain the names of all the feature variables and their respective VIFs\n",
    "vif = pd.DataFrame()\n",
    "vif['Features'] = X_train_new.columns\n",
    "vif['VIF'] = [variance_inflation_factor(X_train_new.values, i) for i in range(X_train_new.shape[1])]\n",
    "vif['VIF'] = round(vif['VIF'], 2)\n",
    "vif = vif.sort_values(by = \"VIF\", ascending = False)\n",
    "vif"
   ]
  },
  {
   "cell_type": "code",
   "execution_count": null,
   "metadata": {
    "execution": {
     "iopub.execute_input": "2022-01-22T13:16:50.559444Z",
     "iopub.status.busy": "2022-01-22T13:16:50.558698Z",
     "iopub.status.idle": "2022-01-22T13:16:50.566412Z",
     "shell.execute_reply": "2022-01-22T13:16:50.566933Z"
    },
    "papermill": {
     "duration": 0.145589,
     "end_time": "2022-01-22T13:16:50.567080",
     "exception": false,
     "start_time": "2022-01-22T13:16:50.421491",
     "status": "completed"
    },
    "tags": []
   },
   "outputs": [],
   "source": [
    "# Add a constant\n",
    "X_train_lm2 = sm.add_constant(X_train_new)\n",
    "\n",
    "# Create a first fitted model\n",
    "lr2 = sm.OLS(y_train, X_train_lm2).fit()"
   ]
  },
  {
   "cell_type": "code",
   "execution_count": null,
   "metadata": {
    "execution": {
     "iopub.execute_input": "2022-01-22T13:16:50.842852Z",
     "iopub.status.busy": "2022-01-22T13:16:50.842161Z",
     "iopub.status.idle": "2022-01-22T13:16:50.845179Z",
     "shell.execute_reply": "2022-01-22T13:16:50.845693Z"
    },
    "papermill": {
     "duration": 0.143413,
     "end_time": "2022-01-22T13:16:50.845840",
     "exception": false,
     "start_time": "2022-01-22T13:16:50.702427",
     "status": "completed"
    },
    "tags": []
   },
   "outputs": [],
   "source": [
    "# Check the parameters obtained\n",
    "\n",
    "lr2.params"
   ]
  },
  {
   "cell_type": "code",
   "execution_count": null,
   "metadata": {
    "execution": {
     "iopub.execute_input": "2022-01-22T13:16:51.122688Z",
     "iopub.status.busy": "2022-01-22T13:16:51.121924Z",
     "iopub.status.idle": "2022-01-22T13:16:51.139274Z",
     "shell.execute_reply": "2022-01-22T13:16:51.139803Z"
    },
    "papermill": {
     "duration": 0.156485,
     "end_time": "2022-01-22T13:16:51.139960",
     "exception": false,
     "start_time": "2022-01-22T13:16:50.983475",
     "status": "completed"
    },
    "tags": []
   },
   "outputs": [],
   "source": [
    "# Print a summary of the linear regression model obtained\n",
    "print(lr2.summary())"
   ]
  },
  {
   "cell_type": "markdown",
   "metadata": {
    "papermill": {
     "duration": 0.133891,
     "end_time": "2022-01-22T13:16:51.406630",
     "exception": false,
     "start_time": "2022-01-22T13:16:51.272739",
     "status": "completed"
    },
    "tags": []
   },
   "source": [
    "## Model 3"
   ]
  },
  {
   "cell_type": "markdown",
   "metadata": {
    "papermill": {
     "duration": 0.132502,
     "end_time": "2022-01-22T13:16:51.673931",
     "exception": false,
     "start_time": "2022-01-22T13:16:51.541429",
     "status": "completed"
    },
    "tags": []
   },
   "source": [
    " - Removing the variable 'hum' based on its Very High 'VIF' value.\n",
    " - Even though the VIF of hum is second highest, we decided to drop 'hum' and not 'temp' based on general knowledge that temperature can be an important factor for a business like bike rentals, and wanted to retain 'temp'."
   ]
  },
  {
   "cell_type": "code",
   "execution_count": null,
   "metadata": {
    "execution": {
     "iopub.execute_input": "2022-01-22T13:16:51.945290Z",
     "iopub.status.busy": "2022-01-22T13:16:51.944593Z",
     "iopub.status.idle": "2022-01-22T13:16:51.950000Z",
     "shell.execute_reply": "2022-01-22T13:16:51.950550Z"
    },
    "papermill": {
     "duration": 0.143121,
     "end_time": "2022-01-22T13:16:51.950701",
     "exception": false,
     "start_time": "2022-01-22T13:16:51.807580",
     "status": "completed"
    },
    "tags": []
   },
   "outputs": [],
   "source": [
    "X_train_new = X_train_new.drop([\"hum\"], axis = 1)"
   ]
  },
  {
   "cell_type": "markdown",
   "metadata": {
    "papermill": {
     "duration": 0.133765,
     "end_time": "2022-01-22T13:16:52.222340",
     "exception": false,
     "start_time": "2022-01-22T13:16:52.088575",
     "status": "completed"
    },
    "tags": []
   },
   "source": [
    "### VIF Check"
   ]
  },
  {
   "cell_type": "code",
   "execution_count": null,
   "metadata": {
    "execution": {
     "iopub.execute_input": "2022-01-22T13:16:52.490617Z",
     "iopub.status.busy": "2022-01-22T13:16:52.489911Z",
     "iopub.status.idle": "2022-01-22T13:16:52.523668Z",
     "shell.execute_reply": "2022-01-22T13:16:52.524326Z"
    },
    "papermill": {
     "duration": 0.168423,
     "end_time": "2022-01-22T13:16:52.524516",
     "exception": false,
     "start_time": "2022-01-22T13:16:52.356093",
     "status": "completed"
    },
    "tags": []
   },
   "outputs": [],
   "source": [
    "# Check for the VIF values of the feature variables. \n",
    "from statsmodels.stats.outliers_influence import variance_inflation_factor\n",
    "\n",
    "# Create a dataframe that will contain the names of all the feature variables and their respective VIFs\n",
    "vif = pd.DataFrame()\n",
    "vif['Features'] = X_train_new.columns\n",
    "vif['VIF'] = [variance_inflation_factor(X_train_new.values, i) for i in range(X_train_new.shape[1])]\n",
    "vif['VIF'] = round(vif['VIF'], 2)\n",
    "vif = vif.sort_values(by = \"VIF\", ascending = False)\n",
    "vif"
   ]
  },
  {
   "cell_type": "code",
   "execution_count": null,
   "metadata": {
    "execution": {
     "iopub.execute_input": "2022-01-22T13:16:52.799497Z",
     "iopub.status.busy": "2022-01-22T13:16:52.798349Z",
     "iopub.status.idle": "2022-01-22T13:16:52.807208Z",
     "shell.execute_reply": "2022-01-22T13:16:52.807765Z"
    },
    "papermill": {
     "duration": 0.147459,
     "end_time": "2022-01-22T13:16:52.807917",
     "exception": false,
     "start_time": "2022-01-22T13:16:52.660458",
     "status": "completed"
    },
    "tags": []
   },
   "outputs": [],
   "source": [
    "# Add a constant\n",
    "X_train_lm3 = sm.add_constant(X_train_new)\n",
    "\n",
    "# Create a first fitted model\n",
    "lr3 = sm.OLS(y_train, X_train_lm3).fit()"
   ]
  },
  {
   "cell_type": "code",
   "execution_count": null,
   "metadata": {
    "execution": {
     "iopub.execute_input": "2022-01-22T13:16:53.082395Z",
     "iopub.status.busy": "2022-01-22T13:16:53.081346Z",
     "iopub.status.idle": "2022-01-22T13:16:53.089212Z",
     "shell.execute_reply": "2022-01-22T13:16:53.089781Z"
    },
    "papermill": {
     "duration": 0.145679,
     "end_time": "2022-01-22T13:16:53.089929",
     "exception": false,
     "start_time": "2022-01-22T13:16:52.944250",
     "status": "completed"
    },
    "tags": []
   },
   "outputs": [],
   "source": [
    "lr3.params"
   ]
  },
  {
   "cell_type": "code",
   "execution_count": null,
   "metadata": {
    "execution": {
     "iopub.execute_input": "2022-01-22T13:16:53.361263Z",
     "iopub.status.busy": "2022-01-22T13:16:53.360217Z",
     "iopub.status.idle": "2022-01-22T13:16:53.380005Z",
     "shell.execute_reply": "2022-01-22T13:16:53.380653Z"
    },
    "papermill": {
     "duration": 0.156118,
     "end_time": "2022-01-22T13:16:53.380804",
     "exception": false,
     "start_time": "2022-01-22T13:16:53.224686",
     "status": "completed"
    },
    "tags": []
   },
   "outputs": [],
   "source": [
    "# Print a summary of the linear regression model obtained\n",
    "print(lr3.summary())"
   ]
  },
  {
   "cell_type": "markdown",
   "metadata": {
    "papermill": {
     "duration": 0.134626,
     "end_time": "2022-01-22T13:16:53.651020",
     "exception": false,
     "start_time": "2022-01-22T13:16:53.516394",
     "status": "completed"
    },
    "tags": []
   },
   "source": [
    "## Model 4"
   ]
  },
  {
   "cell_type": "markdown",
   "metadata": {
    "papermill": {
     "duration": 0.132235,
     "end_time": "2022-01-22T13:16:53.917958",
     "exception": false,
     "start_time": "2022-01-22T13:16:53.785723",
     "status": "completed"
    },
    "tags": []
   },
   "source": [
    "- Removing the variable 'season3' based on its Very High 'VIF' value.\n",
    "- Even though the VIF of season3 is second highest, we decided to drop 'season3' and not 'temp' based on general knowledge that temperature can be an important factor for a business like bike rentals, and wanted to retain 'temp'."
   ]
  },
  {
   "cell_type": "code",
   "execution_count": null,
   "metadata": {
    "execution": {
     "iopub.execute_input": "2022-01-22T13:16:54.189308Z",
     "iopub.status.busy": "2022-01-22T13:16:54.188294Z",
     "iopub.status.idle": "2022-01-22T13:16:54.194029Z",
     "shell.execute_reply": "2022-01-22T13:16:54.194565Z"
    },
    "papermill": {
     "duration": 0.142684,
     "end_time": "2022-01-22T13:16:54.194726",
     "exception": false,
     "start_time": "2022-01-22T13:16:54.052042",
     "status": "completed"
    },
    "tags": []
   },
   "outputs": [],
   "source": [
    "X_train_new = X_train_new.drop([\"season_3\"], axis = 1)"
   ]
  },
  {
   "cell_type": "markdown",
   "metadata": {
    "papermill": {
     "duration": 0.134577,
     "end_time": "2022-01-22T13:16:54.463843",
     "exception": false,
     "start_time": "2022-01-22T13:16:54.329266",
     "status": "completed"
    },
    "tags": []
   },
   "source": [
    "### VIF Check"
   ]
  },
  {
   "cell_type": "code",
   "execution_count": null,
   "metadata": {
    "execution": {
     "iopub.execute_input": "2022-01-22T13:16:54.741371Z",
     "iopub.status.busy": "2022-01-22T13:16:54.740659Z",
     "iopub.status.idle": "2022-01-22T13:16:54.771705Z",
     "shell.execute_reply": "2022-01-22T13:16:54.772510Z"
    },
    "papermill": {
     "duration": 0.175749,
     "end_time": "2022-01-22T13:16:54.772739",
     "exception": false,
     "start_time": "2022-01-22T13:16:54.596990",
     "status": "completed"
    },
    "tags": []
   },
   "outputs": [],
   "source": [
    "# Check for the VIF values of the feature variables. \n",
    "from statsmodels.stats.outliers_influence import variance_inflation_factor\n",
    "\n",
    "# Create a dataframe that will contain the names of all the feature variables and their respective VIFs\n",
    "vif = pd.DataFrame()\n",
    "vif['Features'] = X_train_new.columns\n",
    "vif['VIF'] = [variance_inflation_factor(X_train_new.values, i) for i in range(X_train_new.shape[1])]\n",
    "vif['VIF'] = round(vif['VIF'], 2)\n",
    "vif = vif.sort_values(by = \"VIF\", ascending = False)\n",
    "vif"
   ]
  },
  {
   "cell_type": "code",
   "execution_count": null,
   "metadata": {
    "execution": {
     "iopub.execute_input": "2022-01-22T13:16:55.092478Z",
     "iopub.status.busy": "2022-01-22T13:16:55.091412Z",
     "iopub.status.idle": "2022-01-22T13:16:55.099788Z",
     "shell.execute_reply": "2022-01-22T13:16:55.100383Z"
    },
    "papermill": {
     "duration": 0.150504,
     "end_time": "2022-01-22T13:16:55.100544",
     "exception": false,
     "start_time": "2022-01-22T13:16:54.950040",
     "status": "completed"
    },
    "tags": []
   },
   "outputs": [],
   "source": [
    "# Add a constant\n",
    "X_train_lm4 = sm.add_constant(X_train_new)\n",
    "\n",
    "# Create a first fitted model\n",
    "lr4 = sm.OLS(y_train, X_train_lm4).fit()"
   ]
  },
  {
   "cell_type": "code",
   "execution_count": null,
   "metadata": {
    "execution": {
     "iopub.execute_input": "2022-01-22T13:16:55.377531Z",
     "iopub.status.busy": "2022-01-22T13:16:55.375912Z",
     "iopub.status.idle": "2022-01-22T13:16:55.384897Z",
     "shell.execute_reply": "2022-01-22T13:16:55.384283Z"
    },
    "papermill": {
     "duration": 0.146951,
     "end_time": "2022-01-22T13:16:55.385025",
     "exception": false,
     "start_time": "2022-01-22T13:16:55.238074",
     "status": "completed"
    },
    "tags": []
   },
   "outputs": [],
   "source": [
    "# Check the parameters obtained\n",
    "\n",
    "lr4.params"
   ]
  },
  {
   "cell_type": "code",
   "execution_count": null,
   "metadata": {
    "execution": {
     "iopub.execute_input": "2022-01-22T13:16:55.661878Z",
     "iopub.status.busy": "2022-01-22T13:16:55.660801Z",
     "iopub.status.idle": "2022-01-22T13:16:55.676798Z",
     "shell.execute_reply": "2022-01-22T13:16:55.677379Z"
    },
    "papermill": {
     "duration": 0.15569,
     "end_time": "2022-01-22T13:16:55.677541",
     "exception": false,
     "start_time": "2022-01-22T13:16:55.521851",
     "status": "completed"
    },
    "tags": []
   },
   "outputs": [],
   "source": [
    "# Print a summary of the linear regression model obtained\n",
    "print(lr4.summary())"
   ]
  },
  {
   "cell_type": "markdown",
   "metadata": {
    "papermill": {
     "duration": 0.142675,
     "end_time": "2022-01-22T13:16:55.957371",
     "exception": false,
     "start_time": "2022-01-22T13:16:55.814696",
     "status": "completed"
    },
    "tags": []
   },
   "source": [
    "## Model 5"
   ]
  },
  {
   "cell_type": "markdown",
   "metadata": {
    "papermill": {
     "duration": 0.134878,
     "end_time": "2022-01-22T13:16:56.232075",
     "exception": false,
     "start_time": "2022-01-22T13:16:56.097197",
     "status": "completed"
    },
    "tags": []
   },
   "source": [
    "- Removing the variable 'mnth_10' based on its Very High p-value."
   ]
  },
  {
   "cell_type": "code",
   "execution_count": null,
   "metadata": {
    "execution": {
     "iopub.execute_input": "2022-01-22T13:16:56.518795Z",
     "iopub.status.busy": "2022-01-22T13:16:56.518110Z",
     "iopub.status.idle": "2022-01-22T13:16:56.523404Z",
     "shell.execute_reply": "2022-01-22T13:16:56.523942Z"
    },
    "papermill": {
     "duration": 0.155606,
     "end_time": "2022-01-22T13:16:56.524096",
     "exception": false,
     "start_time": "2022-01-22T13:16:56.368490",
     "status": "completed"
    },
    "tags": []
   },
   "outputs": [],
   "source": [
    "X_train_new = X_train_new.drop([\"mnth_10\"], axis = 1)"
   ]
  },
  {
   "cell_type": "markdown",
   "metadata": {
    "papermill": {
     "duration": 0.134386,
     "end_time": "2022-01-22T13:16:56.794097",
     "exception": false,
     "start_time": "2022-01-22T13:16:56.659711",
     "status": "completed"
    },
    "tags": []
   },
   "source": [
    "### VIF Check"
   ]
  },
  {
   "cell_type": "code",
   "execution_count": null,
   "metadata": {
    "execution": {
     "iopub.execute_input": "2022-01-22T13:16:57.078820Z",
     "iopub.status.busy": "2022-01-22T13:16:57.078139Z",
     "iopub.status.idle": "2022-01-22T13:16:57.107562Z",
     "shell.execute_reply": "2022-01-22T13:16:57.108274Z"
    },
    "papermill": {
     "duration": 0.172313,
     "end_time": "2022-01-22T13:16:57.108470",
     "exception": false,
     "start_time": "2022-01-22T13:16:56.936157",
     "status": "completed"
    },
    "tags": []
   },
   "outputs": [],
   "source": [
    "# Check for the VIF values of the feature variables. \n",
    "from statsmodels.stats.outliers_influence import variance_inflation_factor\n",
    "\n",
    "# Create a dataframe that will contain the names of all the feature variables and their respective VIFs\n",
    "vif = pd.DataFrame()\n",
    "vif['Features'] = X_train_new.columns\n",
    "vif['VIF'] = [variance_inflation_factor(X_train_new.values, i) for i in range(X_train_new.shape[1])]\n",
    "vif['VIF'] = round(vif['VIF'], 2)\n",
    "vif = vif.sort_values(by = \"VIF\", ascending = False)\n",
    "vif"
   ]
  },
  {
   "cell_type": "code",
   "execution_count": null,
   "metadata": {
    "execution": {
     "iopub.execute_input": "2022-01-22T13:16:57.436655Z",
     "iopub.status.busy": "2022-01-22T13:16:57.435945Z",
     "iopub.status.idle": "2022-01-22T13:16:57.443977Z",
     "shell.execute_reply": "2022-01-22T13:16:57.444537Z"
    },
    "papermill": {
     "duration": 0.194879,
     "end_time": "2022-01-22T13:16:57.444687",
     "exception": false,
     "start_time": "2022-01-22T13:16:57.249808",
     "status": "completed"
    },
    "tags": []
   },
   "outputs": [],
   "source": [
    "# Add a constant\n",
    "X_train_lm5 = sm.add_constant(X_train_new)\n",
    "\n",
    "# Create a first fitted model\n",
    "lr5 = sm.OLS(y_train, X_train_lm5).fit()"
   ]
  },
  {
   "cell_type": "code",
   "execution_count": null,
   "metadata": {
    "execution": {
     "iopub.execute_input": "2022-01-22T13:16:57.723921Z",
     "iopub.status.busy": "2022-01-22T13:16:57.723229Z",
     "iopub.status.idle": "2022-01-22T13:16:57.730897Z",
     "shell.execute_reply": "2022-01-22T13:16:57.731430Z"
    },
    "papermill": {
     "duration": 0.147782,
     "end_time": "2022-01-22T13:16:57.731590",
     "exception": false,
     "start_time": "2022-01-22T13:16:57.583808",
     "status": "completed"
    },
    "tags": []
   },
   "outputs": [],
   "source": [
    "# Check the parameters obtained\n",
    "\n",
    "lr5.params"
   ]
  },
  {
   "cell_type": "code",
   "execution_count": null,
   "metadata": {
    "execution": {
     "iopub.execute_input": "2022-01-22T13:16:58.009336Z",
     "iopub.status.busy": "2022-01-22T13:16:58.008649Z",
     "iopub.status.idle": "2022-01-22T13:16:58.024722Z",
     "shell.execute_reply": "2022-01-22T13:16:58.025275Z"
    },
    "papermill": {
     "duration": 0.156552,
     "end_time": "2022-01-22T13:16:58.025424",
     "exception": false,
     "start_time": "2022-01-22T13:16:57.868872",
     "status": "completed"
    },
    "tags": []
   },
   "outputs": [],
   "source": [
    "# Print a summary of the linear regression model obtained\n",
    "print(lr5.summary())"
   ]
  },
  {
   "cell_type": "markdown",
   "metadata": {
    "papermill": {
     "duration": 0.136808,
     "end_time": "2022-01-22T13:16:58.301384",
     "exception": false,
     "start_time": "2022-01-22T13:16:58.164576",
     "status": "completed"
    },
    "tags": []
   },
   "source": [
    "## Model 6"
   ]
  },
  {
   "cell_type": "markdown",
   "metadata": {
    "papermill": {
     "duration": 0.140316,
     "end_time": "2022-01-22T13:16:58.581135",
     "exception": false,
     "start_time": "2022-01-22T13:16:58.440819",
     "status": "completed"
    },
    "tags": []
   },
   "source": [
    "- Removing the variable 'mnth_3' based on its High 'p-value'."
   ]
  },
  {
   "cell_type": "code",
   "execution_count": null,
   "metadata": {
    "execution": {
     "iopub.execute_input": "2022-01-22T13:16:58.860542Z",
     "iopub.status.busy": "2022-01-22T13:16:58.859834Z",
     "iopub.status.idle": "2022-01-22T13:16:58.864837Z",
     "shell.execute_reply": "2022-01-22T13:16:58.865327Z"
    },
    "papermill": {
     "duration": 0.146717,
     "end_time": "2022-01-22T13:16:58.865487",
     "exception": false,
     "start_time": "2022-01-22T13:16:58.718770",
     "status": "completed"
    },
    "tags": []
   },
   "outputs": [],
   "source": [
    "X_train_new = X_train_new.drop([\"mnth_3\"], axis = 1)"
   ]
  },
  {
   "cell_type": "markdown",
   "metadata": {
    "papermill": {
     "duration": 0.137328,
     "end_time": "2022-01-22T13:16:59.142950",
     "exception": false,
     "start_time": "2022-01-22T13:16:59.005622",
     "status": "completed"
    },
    "tags": []
   },
   "source": [
    "### VIF Check"
   ]
  },
  {
   "cell_type": "code",
   "execution_count": null,
   "metadata": {
    "execution": {
     "iopub.execute_input": "2022-01-22T13:16:59.429526Z",
     "iopub.status.busy": "2022-01-22T13:16:59.428808Z",
     "iopub.status.idle": "2022-01-22T13:16:59.452731Z",
     "shell.execute_reply": "2022-01-22T13:16:59.453266Z"
    },
    "papermill": {
     "duration": 0.172263,
     "end_time": "2022-01-22T13:16:59.453437",
     "exception": false,
     "start_time": "2022-01-22T13:16:59.281174",
     "status": "completed"
    },
    "tags": []
   },
   "outputs": [],
   "source": [
    "# Check for the VIF values of the feature variables. \n",
    "from statsmodels.stats.outliers_influence import variance_inflation_factor\n",
    "\n",
    "# Create a dataframe that will contain the names of all the feature variables and their respective VIFs\n",
    "vif = pd.DataFrame()\n",
    "vif['Features'] = X_train_new.columns\n",
    "vif['VIF'] = [variance_inflation_factor(X_train_new.values, i) for i in range(X_train_new.shape[1])]\n",
    "vif['VIF'] = round(vif['VIF'], 2)\n",
    "vif = vif.sort_values(by = \"VIF\", ascending = False)\n",
    "vif"
   ]
  },
  {
   "cell_type": "code",
   "execution_count": null,
   "metadata": {
    "execution": {
     "iopub.execute_input": "2022-01-22T13:16:59.735046Z",
     "iopub.status.busy": "2022-01-22T13:16:59.734370Z",
     "iopub.status.idle": "2022-01-22T13:16:59.744639Z",
     "shell.execute_reply": "2022-01-22T13:16:59.745233Z"
    },
    "papermill": {
     "duration": 0.152413,
     "end_time": "2022-01-22T13:16:59.745395",
     "exception": false,
     "start_time": "2022-01-22T13:16:59.592982",
     "status": "completed"
    },
    "tags": []
   },
   "outputs": [],
   "source": [
    "# Add a constant\n",
    "X_train_lm6 = sm.add_constant(X_train_new)\n",
    "\n",
    "# Create a first fitted model\n",
    "lr6 = sm.OLS(y_train, X_train_lm6).fit()"
   ]
  },
  {
   "cell_type": "code",
   "execution_count": null,
   "metadata": {
    "execution": {
     "iopub.execute_input": "2022-01-22T13:17:00.038203Z",
     "iopub.status.busy": "2022-01-22T13:17:00.037170Z",
     "iopub.status.idle": "2022-01-22T13:17:00.044688Z",
     "shell.execute_reply": "2022-01-22T13:17:00.045284Z"
    },
    "papermill": {
     "duration": 0.151365,
     "end_time": "2022-01-22T13:17:00.045454",
     "exception": false,
     "start_time": "2022-01-22T13:16:59.894089",
     "status": "completed"
    },
    "tags": []
   },
   "outputs": [],
   "source": [
    "# Check the parameters obtained\n",
    "\n",
    "lr6.params"
   ]
  },
  {
   "cell_type": "code",
   "execution_count": null,
   "metadata": {
    "execution": {
     "iopub.execute_input": "2022-01-22T13:17:00.328225Z",
     "iopub.status.busy": "2022-01-22T13:17:00.327173Z",
     "iopub.status.idle": "2022-01-22T13:17:00.345043Z",
     "shell.execute_reply": "2022-01-22T13:17:00.344517Z"
    },
    "papermill": {
     "duration": 0.160413,
     "end_time": "2022-01-22T13:17:00.345182",
     "exception": false,
     "start_time": "2022-01-22T13:17:00.184769",
     "status": "completed"
    },
    "tags": []
   },
   "outputs": [],
   "source": [
    "# Print a summary of the linear regression model obtained\n",
    "print(lr6.summary())"
   ]
  },
  {
   "cell_type": "markdown",
   "metadata": {
    "papermill": {
     "duration": 0.139778,
     "end_time": "2022-01-22T13:17:00.630796",
     "exception": false,
     "start_time": "2022-01-22T13:17:00.491018",
     "status": "completed"
    },
    "tags": []
   },
   "source": [
    "### Insights\n",
    "- This model looks good, as there seems to be VERY LOW Multicollinearity between the predictors and the p-values for all the predictors seems to be significant. For now, we will consider this as our final model (unless the Test data metrics are not significantly close to this number)."
   ]
  },
  {
   "cell_type": "markdown",
   "metadata": {
    "papermill": {
     "duration": 0.139591,
     "end_time": "2022-01-22T13:17:00.910058",
     "exception": false,
     "start_time": "2022-01-22T13:17:00.770467",
     "status": "completed"
    },
    "tags": []
   },
   "source": [
    "# Final Model Interpretation"
   ]
  },
  {
   "cell_type": "markdown",
   "metadata": {
    "papermill": {
     "duration": 0.140569,
     "end_time": "2022-01-22T13:17:01.191662",
     "exception": false,
     "start_time": "2022-01-22T13:17:01.051093",
     "status": "completed"
    },
    "tags": []
   },
   "source": [
    "## Hypothesis Testing:"
   ]
  },
  {
   "cell_type": "markdown",
   "metadata": {
    "papermill": {
     "duration": 0.141108,
     "end_time": "2022-01-22T13:17:01.474069",
     "exception": false,
     "start_time": "2022-01-22T13:17:01.332961",
     "status": "completed"
    },
    "tags": []
   },
   "source": [
    "Hypothesis testing states that:\n",
    "- H0:B1=B2=...=Bn=0 \n",
    "- H1:  at least one  Bi!=0"
   ]
  },
  {
   "cell_type": "markdown",
   "metadata": {
    "papermill": {
     "duration": 0.140633,
     "end_time": "2022-01-22T13:17:01.759705",
     "exception": false,
     "start_time": "2022-01-22T13:17:01.619072",
     "status": "completed"
    },
    "tags": []
   },
   "source": [
    "### lr6 model coefficient values"
   ]
  },
  {
   "cell_type": "markdown",
   "metadata": {
    "papermill": {
     "duration": 0.141988,
     "end_time": "2022-01-22T13:17:02.042436",
     "exception": false,
     "start_time": "2022-01-22T13:17:01.900448",
     "status": "completed"
    },
    "tags": []
   },
   "source": [
    "- const 0.084143\n",
    "- yr 0.230846\n",
    "- workingday 0.043203\n",
    "- temp 0.563615\n",
    "- windspeed -0.155191\n",
    "- season_2 0.082706\n",
    "- season_4 0.128744\n",
    "- mnth_9 0.094743\n",
    "- weekday_6 0.056909\n",
    "- weathersit_2 -0.074807\n",
    "- weathersit_3 -0.306992"
   ]
  },
  {
   "cell_type": "markdown",
   "metadata": {
    "papermill": {
     "duration": 0.138238,
     "end_time": "2022-01-22T13:17:02.319470",
     "exception": false,
     "start_time": "2022-01-22T13:17:02.181232",
     "status": "completed"
    },
    "tags": []
   },
   "source": [
    "### Insights\n",
    "- From the lr6 model summary, it is evident that all our coefficients are not equal to zerowhich means **We REJECT the NULL HYPOTHESIS**\n",
    "    "
   ]
  },
  {
   "cell_type": "markdown",
   "metadata": {
    "papermill": {
     "duration": 0.140415,
     "end_time": "2022-01-22T13:17:02.601083",
     "exception": false,
     "start_time": "2022-01-22T13:17:02.460668",
     "status": "completed"
    },
    "tags": []
   },
   "source": [
    "### F Statistics"
   ]
  },
  {
   "cell_type": "markdown",
   "metadata": {
    "papermill": {
     "duration": 0.140484,
     "end_time": "2022-01-22T13:17:02.880658",
     "exception": false,
     "start_time": "2022-01-22T13:17:02.740174",
     "status": "completed"
    },
    "tags": []
   },
   "source": [
    "F-Statistics is used for testing the overall significance of the Model: Higher the F-Statistics, more significant the Model is.\n",
    "\n",
    "- F-statistic: 233.8\n",
    "- Prob (F-statistic): 3.77e-181\n",
    "\n",
    "The F-Statistics value of 233 (which is greater than 1) and the p-value of '~0.0000' states that the overall model is significant"
   ]
  },
  {
   "cell_type": "markdown",
   "metadata": {
    "papermill": {
     "duration": 0.137863,
     "end_time": "2022-01-22T13:17:03.157846",
     "exception": false,
     "start_time": "2022-01-22T13:17:03.019983",
     "status": "completed"
    },
    "tags": []
   },
   "source": [
    "## The equation of best fitted surface based on model lr6:"
   ]
  },
  {
   "cell_type": "markdown",
   "metadata": {
    "papermill": {
     "duration": 0.138269,
     "end_time": "2022-01-22T13:17:03.435027",
     "exception": false,
     "start_time": "2022-01-22T13:17:03.296758",
     "status": "completed"
    },
    "tags": []
   },
   "source": [
    "cnt = 0.084143 + (**yr** × 0.230846) + (**workingday** × 0.043203) + (**temp** × 0.563615) − (**windspeed** × 0.155191) + (**season2** × 0.082706) + (**season4** ×0.128744) + (**mnth9** × 0.094743) + (**weekday6** ×0.056909) − (**weathersit2** × 0.074807) − (**weathersit3** × 0.306992)"
   ]
  },
  {
   "cell_type": "markdown",
   "metadata": {
    "papermill": {
     "duration": 0.138238,
     "end_time": "2022-01-22T13:17:03.713306",
     "exception": false,
     "start_time": "2022-01-22T13:17:03.575068",
     "status": "completed"
    },
    "tags": []
   },
   "source": [
    "## Interpretation of Coefficients:\n",
    "**temp:** A coefficient value of ‘0.5636’ indicated that a unit increase in temp variable, increases the bike hire numbers by 0.5636 units.\n",
    "\n",
    "**weathersit_3:** A coefficient value of ‘-0.3070’ indicated that, w.r.t Weathersit1, a unit increase in Weathersit3 variable, decreases the bike hire numbers by 0.3070 units.\n",
    "\n",
    "**yr:** A coefficient value of ‘0.2308’ indicated that a unit increase in yr variable, increases the bike hire numbers by 0.2308 units.\n",
    "\n",
    "**season_4:** A coefficient value of ‘0.128744’ indicated that w.r.t season_1, a unit increase in season_4 variable increases the bike hire numbers by 0.128744 units.\n",
    "\n",
    "**windspeed:** A coefficient value of ‘-0.155191’ indicated that, a unit increase in windspeed variable decreases the bike hire numbers by 0.155191 units.\n",
    "\n",
    "**workingday:** A coefficient value of ‘0.043203’ indicated that, a unit increase in workingday variable increases the bike hire numbers by 0.043203 units.\n",
    "\n",
    "**season_2:** A coefficient value of ‘0.082706’ indicated that w.r.t season_1, a unit increase in season_2 variable decreases the bike hire numbers by 0.082706 units.\n",
    "\n",
    "**mnth_9:** A coefficient value of ‘0.094743’ indicated that w.r.t mnth_1, a unit increase in mnth_9 variable increases the bike hire numbers by 0.094743 units.\n",
    "\n",
    "**weekday_6:** A coefficient value of ‘0.056909’ indicated that w.r.t weekday_1, a unit increase in weekday_6 variable increases the bike hire numbers by 0.056909 units.\n",
    "\n",
    "**weathersit_2:** A coefficient value of ‘-0.074807’ indicated that, w.r.t Weathersit1, a unit increase in Weathersit2 variable, decreases the bike hire numbers by 0.074807 units.\n",
    "\n",
    "**const:** The Constant value of ‘0.084143’ indicated that, in the absence of all other predictor variables (i.e. when x1,x2...xn =0), The bike rental can still increase by 0.084143 units."
   ]
  },
  {
   "cell_type": "markdown",
   "metadata": {
    "papermill": {
     "duration": 0.142803,
     "end_time": "2022-01-22T13:17:03.995914",
     "exception": false,
     "start_time": "2022-01-22T13:17:03.853111",
     "status": "completed"
    },
    "tags": []
   },
   "source": [
    "# ASSUMPTIONS "
   ]
  },
  {
   "cell_type": "markdown",
   "metadata": {
    "papermill": {
     "duration": 0.139836,
     "end_time": "2022-01-22T13:17:04.278149",
     "exception": false,
     "start_time": "2022-01-22T13:17:04.138313",
     "status": "completed"
    },
    "tags": []
   },
   "source": [
    "## Error terms are normally distributed with mean zero (not X, Y)\n",
    "- Residual Analysis Of Training Data"
   ]
  },
  {
   "cell_type": "code",
   "execution_count": null,
   "metadata": {
    "execution": {
     "iopub.execute_input": "2022-01-22T13:17:04.565636Z",
     "iopub.status.busy": "2022-01-22T13:17:04.564876Z",
     "iopub.status.idle": "2022-01-22T13:17:04.568098Z",
     "shell.execute_reply": "2022-01-22T13:17:04.567567Z"
    },
    "papermill": {
     "duration": 0.150037,
     "end_time": "2022-01-22T13:17:04.568241",
     "exception": false,
     "start_time": "2022-01-22T13:17:04.418204",
     "status": "completed"
    },
    "tags": []
   },
   "outputs": [],
   "source": [
    "y_train_pred = lr6.predict(X_train_lm6)"
   ]
  },
  {
   "cell_type": "code",
   "execution_count": null,
   "metadata": {
    "execution": {
     "iopub.execute_input": "2022-01-22T13:17:04.864204Z",
     "iopub.status.busy": "2022-01-22T13:17:04.863446Z",
     "iopub.status.idle": "2022-01-22T13:17:05.064873Z",
     "shell.execute_reply": "2022-01-22T13:17:05.064187Z"
    },
    "papermill": {
     "duration": 0.355016,
     "end_time": "2022-01-22T13:17:05.065073",
     "exception": false,
     "start_time": "2022-01-22T13:17:04.710057",
     "status": "completed"
    },
    "tags": []
   },
   "outputs": [],
   "source": [
    "res = y_train-y_train_pred\n",
    "# Plot the histogram of the error terms\n",
    "fig = plt.figure()\n",
    "sns.distplot((res), bins = 20)\n",
    "fig.suptitle('Error Terms', fontsize = 20)                  # Plot heading \n",
    "plt.xlabel('Errors', fontsize = 18)                         # X-label"
   ]
  },
  {
   "cell_type": "markdown",
   "metadata": {
    "papermill": {
     "duration": 0.152226,
     "end_time": "2022-01-22T13:17:05.374747",
     "exception": false,
     "start_time": "2022-01-22T13:17:05.222521",
     "status": "completed"
    },
    "tags": []
   },
   "source": [
    "### Insights\n",
    "- From the above histogram, we could see that the Residuals are normally distributed. Hence our assumption for Linear Regression is valid."
   ]
  },
  {
   "cell_type": "markdown",
   "metadata": {
    "papermill": {
     "duration": 0.149627,
     "end_time": "2022-01-22T13:17:05.676282",
     "exception": false,
     "start_time": "2022-01-22T13:17:05.526655",
     "status": "completed"
    },
    "tags": []
   },
   "source": [
    "## There is a linear relationship between X and Y"
   ]
  },
  {
   "cell_type": "code",
   "execution_count": null,
   "metadata": {
    "execution": {
     "iopub.execute_input": "2022-01-22T13:17:06.012426Z",
     "iopub.status.busy": "2022-01-22T13:17:06.011362Z",
     "iopub.status.idle": "2022-01-22T13:17:12.600054Z",
     "shell.execute_reply": "2022-01-22T13:17:12.600601Z"
    },
    "papermill": {
     "duration": 6.757554,
     "end_time": "2022-01-22T13:17:12.600749",
     "exception": false,
     "start_time": "2022-01-22T13:17:05.843195",
     "status": "completed"
    },
    "tags": []
   },
   "outputs": [],
   "source": [
    "bike_new=bike_new[[ 'temp', 'atemp', 'hum', 'windspeed','cnt']]\n",
    "\n",
    "sns.pairplot(bike_num, diag_kind='kde')\n",
    "plt.show()"
   ]
  },
  {
   "cell_type": "markdown",
   "metadata": {
    "papermill": {
     "duration": 0.149539,
     "end_time": "2022-01-22T13:17:12.901257",
     "exception": false,
     "start_time": "2022-01-22T13:17:12.751718",
     "status": "completed"
    },
    "tags": []
   },
   "source": [
    "## Insight\n",
    "- Using the pair plot, we could see there is a linear relation between temp and atemp variable with the predictor ‘cnt’."
   ]
  },
  {
   "cell_type": "markdown",
   "metadata": {
    "papermill": {
     "duration": 0.148854,
     "end_time": "2022-01-22T13:17:13.200655",
     "exception": false,
     "start_time": "2022-01-22T13:17:13.051801",
     "status": "completed"
    },
    "tags": []
   },
   "source": [
    "## There is No Multicollinearity between the predictor variables"
   ]
  },
  {
   "cell_type": "code",
   "execution_count": null,
   "metadata": {
    "execution": {
     "iopub.execute_input": "2022-01-22T13:17:13.511221Z",
     "iopub.status.busy": "2022-01-22T13:17:13.510514Z",
     "iopub.status.idle": "2022-01-22T13:17:13.534517Z",
     "shell.execute_reply": "2022-01-22T13:17:13.535155Z"
    },
    "papermill": {
     "duration": 0.184408,
     "end_time": "2022-01-22T13:17:13.535318",
     "exception": false,
     "start_time": "2022-01-22T13:17:13.350910",
     "status": "completed"
    },
    "tags": []
   },
   "outputs": [],
   "source": [
    "# Check for the VIF values of the feature variables. \n",
    "from statsmodels.stats.outliers_influence import variance_inflation_factor\n",
    "\n",
    "# Create a dataframe that will contain the names of all the feature variables and their respective VIFs\n",
    "vif = pd.DataFrame()\n",
    "vif['Features'] = X_train_new.columns\n",
    "vif['VIF'] = [variance_inflation_factor(X_train_new.values, i) for i in range(X_train_new.shape[1])]\n",
    "vif['VIF'] = round(vif['VIF'], 2)\n",
    "vif = vif.sort_values(by = \"VIF\", ascending = False)\n",
    "vif"
   ]
  },
  {
   "cell_type": "markdown",
   "metadata": {
    "papermill": {
     "duration": 0.149535,
     "end_time": "2022-01-22T13:17:13.835687",
     "exception": false,
     "start_time": "2022-01-22T13:17:13.686152",
     "status": "completed"
    },
    "tags": []
   },
   "source": [
    "## Insight\n",
    "\n",
    " - From the VIF calculation we could find that there is no multicollinearity existing between the predictor variables, as all the values are within permissible range of below 5"
   ]
  },
  {
   "cell_type": "markdown",
   "metadata": {
    "papermill": {
     "duration": 0.153391,
     "end_time": "2022-01-22T13:17:14.141533",
     "exception": false,
     "start_time": "2022-01-22T13:17:13.988142",
     "status": "completed"
    },
    "tags": []
   },
   "source": [
    "# MAKING PREDICTION USING FINAL MODEL\n",
    "\n",
    "Now that we have fitted the model and checked the assumptions, it's time to go ahead and make predictions using the final model (lr6)\n",
    "\n",
    "### Applying the scaling on the test sets"
   ]
  },
  {
   "cell_type": "code",
   "execution_count": null,
   "metadata": {
    "execution": {
     "iopub.execute_input": "2022-01-22T13:17:14.445870Z",
     "iopub.status.busy": "2022-01-22T13:17:14.444853Z",
     "iopub.status.idle": "2022-01-22T13:17:14.455588Z",
     "shell.execute_reply": "2022-01-22T13:17:14.456139Z"
    },
    "papermill": {
     "duration": 0.164152,
     "end_time": "2022-01-22T13:17:14.456290",
     "exception": false,
     "start_time": "2022-01-22T13:17:14.292138",
     "status": "completed"
    },
    "tags": []
   },
   "outputs": [],
   "source": [
    "# Apply scaler() to all numeric variables in test dataset. Note: we will only use scaler.transform, \n",
    "# as we want to use the metrics that the model learned from the training data to be applied on the test data. \n",
    "# In other words, we want to prevent the information leak from train to test dataset.\n",
    "\n",
    "num_vars = ['temp', 'atemp', 'hum', 'windspeed','cnt']\n",
    "\n",
    "df_test[num_vars] = scaler.transform(df_test[num_vars])"
   ]
  },
  {
   "cell_type": "code",
   "execution_count": null,
   "metadata": {
    "execution": {
     "iopub.execute_input": "2022-01-22T13:17:14.763702Z",
     "iopub.status.busy": "2022-01-22T13:17:14.762288Z",
     "iopub.status.idle": "2022-01-22T13:17:14.785330Z",
     "shell.execute_reply": "2022-01-22T13:17:14.784739Z"
    },
    "papermill": {
     "duration": 0.176995,
     "end_time": "2022-01-22T13:17:14.785470",
     "exception": false,
     "start_time": "2022-01-22T13:17:14.608475",
     "status": "completed"
    },
    "tags": []
   },
   "outputs": [],
   "source": [
    "df_test.head()"
   ]
  },
  {
   "cell_type": "code",
   "execution_count": null,
   "metadata": {
    "execution": {
     "iopub.execute_input": "2022-01-22T13:17:15.098868Z",
     "iopub.status.busy": "2022-01-22T13:17:15.098146Z",
     "iopub.status.idle": "2022-01-22T13:17:15.196381Z",
     "shell.execute_reply": "2022-01-22T13:17:15.195809Z"
    },
    "papermill": {
     "duration": 0.259185,
     "end_time": "2022-01-22T13:17:15.196521",
     "exception": false,
     "start_time": "2022-01-22T13:17:14.937336",
     "status": "completed"
    },
    "tags": []
   },
   "outputs": [],
   "source": [
    "df_test.describe()"
   ]
  },
  {
   "cell_type": "markdown",
   "metadata": {
    "papermill": {
     "duration": 0.15274,
     "end_time": "2022-01-22T13:17:15.501511",
     "exception": false,
     "start_time": "2022-01-22T13:17:15.348771",
     "status": "completed"
    },
    "tags": []
   },
   "source": [
    "### Dividing into X_test and y_test"
   ]
  },
  {
   "cell_type": "code",
   "execution_count": null,
   "metadata": {
    "execution": {
     "iopub.execute_input": "2022-01-22T13:17:15.827533Z",
     "iopub.status.busy": "2022-01-22T13:17:15.826767Z",
     "iopub.status.idle": "2022-01-22T13:17:15.829779Z",
     "shell.execute_reply": "2022-01-22T13:17:15.830295Z"
    },
    "papermill": {
     "duration": 0.177087,
     "end_time": "2022-01-22T13:17:15.830443",
     "exception": false,
     "start_time": "2022-01-22T13:17:15.653356",
     "status": "completed"
    },
    "tags": []
   },
   "outputs": [],
   "source": [
    "y_test = df_test.pop('cnt')\n",
    "X_test = df_test\n",
    "X_test.info()"
   ]
  },
  {
   "cell_type": "code",
   "execution_count": null,
   "metadata": {
    "execution": {
     "iopub.execute_input": "2022-01-22T13:17:16.145765Z",
     "iopub.status.busy": "2022-01-22T13:17:16.145067Z",
     "iopub.status.idle": "2022-01-22T13:17:16.161042Z",
     "shell.execute_reply": "2022-01-22T13:17:16.161692Z"
    },
    "papermill": {
     "duration": 0.173883,
     "end_time": "2022-01-22T13:17:16.161843",
     "exception": false,
     "start_time": "2022-01-22T13:17:15.987960",
     "status": "completed"
    },
    "tags": []
   },
   "outputs": [],
   "source": [
    "#Selecting the variables that were part of final model.\n",
    "col1=X_train_new.columns\n",
    "X_test=X_test[col1]\n",
    "# Adding constant variable to test dataframe\n",
    "X_test_lm6 = sm.add_constant(X_test)\n",
    "X_test_lm6.info()"
   ]
  },
  {
   "cell_type": "code",
   "execution_count": null,
   "metadata": {
    "execution": {
     "iopub.execute_input": "2022-01-22T13:17:16.471437Z",
     "iopub.status.busy": "2022-01-22T13:17:16.470762Z",
     "iopub.status.idle": "2022-01-22T13:17:16.475142Z",
     "shell.execute_reply": "2022-01-22T13:17:16.475671Z"
    },
    "papermill": {
     "duration": 0.160396,
     "end_time": "2022-01-22T13:17:16.475819",
     "exception": false,
     "start_time": "2022-01-22T13:17:16.315423",
     "status": "completed"
    },
    "tags": []
   },
   "outputs": [],
   "source": [
    "# Making predictions using the final model (lr6)\n",
    "\n",
    "y_pred = lr6.predict(X_test_lm6)"
   ]
  },
  {
   "cell_type": "markdown",
   "metadata": {
    "papermill": {
     "duration": 0.154203,
     "end_time": "2022-01-22T13:17:16.783536",
     "exception": false,
     "start_time": "2022-01-22T13:17:16.629333",
     "status": "completed"
    },
    "tags": []
   },
   "source": [
    "# MODEL EVALUATION"
   ]
  },
  {
   "cell_type": "code",
   "execution_count": null,
   "metadata": {
    "execution": {
     "iopub.execute_input": "2022-01-22T13:17:17.112328Z",
     "iopub.status.busy": "2022-01-22T13:17:17.111672Z",
     "iopub.status.idle": "2022-01-22T13:17:17.260644Z",
     "shell.execute_reply": "2022-01-22T13:17:17.261189Z"
    },
    "papermill": {
     "duration": 0.305443,
     "end_time": "2022-01-22T13:17:17.261342",
     "exception": false,
     "start_time": "2022-01-22T13:17:16.955899",
     "status": "completed"
    },
    "tags": []
   },
   "outputs": [],
   "source": [
    "# Plotting y_test and y_pred to understand the spread\n",
    "\n",
    "fig = plt.figure()\n",
    "plt.scatter(y_test, y_pred, alpha=.5)\n",
    "fig.suptitle('y_test vs y_pred', fontsize = 20)              # Plot heading \n",
    "plt.xlabel('y_test', fontsize = 18)                          # X-label\n",
    "plt.ylabel('y_pred', fontsize = 16) \n",
    "plt.show()"
   ]
  },
  {
   "cell_type": "markdown",
   "metadata": {
    "papermill": {
     "duration": 0.154994,
     "end_time": "2022-01-22T13:17:17.569624",
     "exception": false,
     "start_time": "2022-01-22T13:17:17.414630",
     "status": "completed"
    },
    "tags": []
   },
   "source": [
    " # R^2 (R - Squared) Value for TEST"
   ]
  },
  {
   "cell_type": "code",
   "execution_count": null,
   "metadata": {
    "execution": {
     "iopub.execute_input": "2022-01-22T13:17:17.883061Z",
     "iopub.status.busy": "2022-01-22T13:17:17.882348Z",
     "iopub.status.idle": "2022-01-22T13:17:17.889327Z",
     "shell.execute_reply": "2022-01-22T13:17:17.889876Z"
    },
    "papermill": {
     "duration": 0.166609,
     "end_time": "2022-01-22T13:17:17.890041",
     "exception": false,
     "start_time": "2022-01-22T13:17:17.723432",
     "status": "completed"
    },
    "tags": []
   },
   "outputs": [],
   "source": [
    "from sklearn.metrics import r2_score\n",
    "r2_score(y_test, y_pred)"
   ]
  },
  {
   "cell_type": "markdown",
   "metadata": {
    "papermill": {
     "duration": 0.154355,
     "end_time": "2022-01-22T13:17:18.204271",
     "exception": false,
     "start_time": "2022-01-22T13:17:18.049916",
     "status": "completed"
    },
    "tags": []
   },
   "source": [
    "## Adjusted R^2 (R - Squared) Value for TEST"
   ]
  },
  {
   "cell_type": "code",
   "execution_count": null,
   "metadata": {
    "execution": {
     "iopub.execute_input": "2022-01-22T13:17:18.516592Z",
     "iopub.status.busy": "2022-01-22T13:17:18.515848Z",
     "iopub.status.idle": "2022-01-22T13:17:18.519675Z",
     "shell.execute_reply": "2022-01-22T13:17:18.520228Z"
    },
    "papermill": {
     "duration": 0.160998,
     "end_time": "2022-01-22T13:17:18.520381",
     "exception": false,
     "start_time": "2022-01-22T13:17:18.359383",
     "status": "completed"
    },
    "tags": []
   },
   "outputs": [],
   "source": [
    "# We already have the value of R^2 (calculated in above step)\n",
    "\n",
    "r2=0.8203092200749708"
   ]
  },
  {
   "cell_type": "code",
   "execution_count": null,
   "metadata": {
    "execution": {
     "iopub.execute_input": "2022-01-22T13:17:18.836362Z",
     "iopub.status.busy": "2022-01-22T13:17:18.835632Z",
     "iopub.status.idle": "2022-01-22T13:17:18.840042Z",
     "shell.execute_reply": "2022-01-22T13:17:18.840617Z"
    },
    "papermill": {
     "duration": 0.164986,
     "end_time": "2022-01-22T13:17:18.840763",
     "exception": false,
     "start_time": "2022-01-22T13:17:18.675777",
     "status": "completed"
    },
    "tags": []
   },
   "outputs": [],
   "source": [
    "# Get the shape of X_test\n",
    "X_test.shape\n"
   ]
  },
  {
   "cell_type": "code",
   "execution_count": null,
   "metadata": {
    "execution": {
     "iopub.execute_input": "2022-01-22T13:17:19.155894Z",
     "iopub.status.busy": "2022-01-22T13:17:19.155213Z",
     "iopub.status.idle": "2022-01-22T13:17:19.161674Z",
     "shell.execute_reply": "2022-01-22T13:17:19.162316Z"
    },
    "papermill": {
     "duration": 0.165264,
     "end_time": "2022-01-22T13:17:19.162463",
     "exception": false,
     "start_time": "2022-01-22T13:17:18.997199",
     "status": "completed"
    },
    "tags": []
   },
   "outputs": [],
   "source": [
    "# n is number of rows in X\n",
    "\n",
    "n = X_test.shape[0]\n",
    "\n",
    "\n",
    "# Number of features (predictors, p) is the shape along axis 1\n",
    "p = X_test.shape[1]\n",
    "\n",
    "# We find the Adjusted R-squared using the formula\n",
    "\n",
    "adjusted_r2 = 1-(1-r2)*(n-1)/(n-p-1)\n",
    "adjusted_r2"
   ]
  },
  {
   "cell_type": "markdown",
   "metadata": {
    "papermill": {
     "duration": 0.15896,
     "end_time": "2022-01-22T13:17:19.479432",
     "exception": false,
     "start_time": "2022-01-22T13:17:19.320472",
     "status": "completed"
    },
    "tags": []
   },
   "source": [
    "# Final Result Comparison"
   ]
  },
  {
   "cell_type": "markdown",
   "metadata": {
    "papermill": {
     "duration": 0.160611,
     "end_time": "2022-01-22T13:17:19.798478",
     "exception": false,
     "start_time": "2022-01-22T13:17:19.637867",
     "status": "completed"
    },
    "tags": []
   },
   "source": [
    "- Train R^2 :0.824\n",
    "- Train Adjusted R^2 :0.821 \n",
    "- Test R^2 :0.820\n",
    "- Test Adjusted R^2 :0.812 \n",
    "- This seems to be a really good model that can very well 'Generalize' various datasets."
   ]
  },
  {
   "cell_type": "markdown",
   "metadata": {
    "papermill": {
     "duration": 0.156943,
     "end_time": "2022-01-22T13:17:20.114197",
     "exception": false,
     "start_time": "2022-01-22T13:17:19.957254",
     "status": "completed"
    },
    "tags": []
   },
   "source": [
    "# FINAL REPORT"
   ]
  },
  {
   "cell_type": "markdown",
   "metadata": {
    "papermill": {
     "duration": 0.155727,
     "end_time": "2022-01-22T13:17:20.428688",
     "exception": false,
     "start_time": "2022-01-22T13:17:20.272961",
     "status": "completed"
    },
    "tags": []
   },
   "source": [
    "As per our final Model, the top 3 predictor variables that influences the bike booking are: \n",
    "- **Temperature (temp)** - A coefficient value of ‘0.5636’ indicated that a unit increase in temp variable increases the bike hire numbers by 0.5636 units. \n",
    "- **Weather Situation 3 (weathersit_3)** - A coefficient value of ‘-0.3070’ indicated that, w.r.t Weathersit1, a unit increase in Weathersit3 variable decreases the bike hire numbers by 0.3070 units.\n",
    "- **Year (yr)** - A coefficient value of ‘0.2308’ indicated that a unit increase in yr variable increases the bike hire numbers by 0.2308 units. \n",
    "\n",
    "#### So, it's suggested to consider these variables utmost importance while planning, to achive maximum Booking\n",
    "\n",
    "The next best features that can also be considered are \n",
    "- **season_4:** - A coefficient value of ‘0.128744’ indicated that w.r.t season_1, a unit increase in season_4 variable increases the bike hire numbers by 0.128744 units. \n",
    "- **windspeed:** - A coefficient value of ‘-0.155191’ indicated that, a unit increase in windspeed variable decreases the bike hire numbers by 0.155191 units. \n",
    "\n",
    " #### NOTE: \n",
    " - The details of weathersit_1 & weathersit_3 \n",
    " - **weathersit_1:** Clear, Few clouds, Partly cloudy, Partly cloudy\n",
    " - **weathersit_3:** Light Snow, Light Rain + Thunderstorm + Scattered clouds, Light Rain + Scattered clouds \n",
    " \n",
    " \n",
    " The details of season1 & season4 \n",
    " - **season1:** spring \n",
    " - **season4:** winter"
   ]
  }
 ],
 "metadata": {
  "kernelspec": {
   "display_name": "Python 3 (ipykernel)",
   "language": "python",
   "name": "python3"
  },
  "language_info": {
   "codemirror_mode": {
    "name": "ipython",
    "version": 3
   },
   "file_extension": ".py",
   "mimetype": "text/x-python",
   "name": "python",
   "nbconvert_exporter": "python",
   "pygments_lexer": "ipython3",
   "version": "3.9.7"
  },
  "papermill": {
   "duration": 68.508346,
   "end_time": "2022-01-22T13:17:20.696675",
   "environment_variables": {},
   "exception": null,
   "input_path": "__notebook__.ipynb",
   "output_path": "__notebook__.ipynb",
   "parameters": {},
   "start_time": "2022-01-22T13:16:12.188329",
   "version": "2.1.0"
  }
 },
 "nbformat": 4,
 "nbformat_minor": 4
}
